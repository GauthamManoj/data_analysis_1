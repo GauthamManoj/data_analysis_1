{
 "cells": [
  {
   "cell_type": "markdown",
   "id": "7dcb6ff3",
   "metadata": {
    "papermill": {
     "duration": 0.055871,
     "end_time": "2022-01-30T09:05:01.258099",
     "exception": false,
     "start_time": "2022-01-30T09:05:01.202228",
     "status": "completed"
    },
    "tags": []
   },
   "source": [
    "# Case Study-1 : Retail Dataset\n",
    "***"
   ]
  },
  {
   "cell_type": "markdown",
   "id": "d14faf8b",
   "metadata": {
    "papermill": {
     "duration": 0.053863,
     "end_time": "2022-01-30T09:05:01.369148",
     "exception": false,
     "start_time": "2022-01-30T09:05:01.315285",
     "status": "completed"
    },
    "tags": []
   },
   "source": [
    "## Analysis Workflow:\n",
    "\n",
    "This casestudy will follow the below mentioned workflow or processes:\n",
    "  1. ASK</n>\n",
    "  2. PREPARE</br>\n",
    "  3. PROCESS</br>\n",
    "  4. ANALYZE</br>\n",
    "  5. SHARE</br>\n",
    "  6. ACT\n",
    "    \n",
    "As this case study is for study purpose and the dataset is from a hypothetical retail joint, the ACT phase won't be carried out."
   ]
  },
  {
   "cell_type": "markdown",
   "id": "74f8584c",
   "metadata": {
    "papermill": {
     "duration": 0.053998,
     "end_time": "2022-01-30T09:05:01.477411",
     "exception": false,
     "start_time": "2022-01-30T09:05:01.423413",
     "status": "completed"
    },
    "tags": []
   },
   "source": [
    "## Business Problem (ASK):\n",
    "\n",
    "**A Retail store is required to analyze the day-to-day transactions and keep a track of its customers spread across various locations along with their purchases/returns across various categories.**\n",
    "\n",
    "As part of the analysis, results as mentioned are required to be identified:\n",
    "   1. Popular product categories between male and female customers\n",
    "   2. Highest revenue location - location wise splitup of sales\n",
    "   3. Impact of storetype in sales & revenue generation\n",
    "   4. What is the highest earning product category"
   ]
  },
  {
   "cell_type": "markdown",
   "id": "0f782f06",
   "metadata": {
    "papermill": {
     "duration": 0.054099,
     "end_time": "2022-01-30T09:05:01.586497",
     "exception": false,
     "start_time": "2022-01-30T09:05:01.532398",
     "status": "completed"
    },
    "tags": []
   },
   "source": [
    "## Data Preperation (PREPARE):\n",
    "\n",
    "Data data was already provided for the casestudy and no survey or collection needs to be done."
   ]
  },
  {
   "cell_type": "markdown",
   "id": "9d525fe5",
   "metadata": {
    "papermill": {
     "duration": 0.054016,
     "end_time": "2022-01-30T09:05:01.695042",
     "exception": false,
     "start_time": "2022-01-30T09:05:01.641026",
     "status": "completed"
    },
    "tags": []
   },
   "source": [
    "## Data Processing (PROCESS):\n",
    "\n",
    "cleaning the data and merging the data sets to create an analysis ready dataset."
   ]
  },
  {
   "cell_type": "code",
   "execution_count": 1,
   "id": "184d1251",
   "metadata": {
    "execution": {
     "iopub.execute_input": "2022-01-30T09:05:01.807491Z",
     "iopub.status.busy": "2022-01-30T09:05:01.806342Z",
     "iopub.status.idle": "2022-01-30T09:05:02.772142Z",
     "shell.execute_reply": "2022-01-30T09:05:02.771391Z",
     "shell.execute_reply.started": "2022-01-30T08:59:10.714318Z"
    },
    "papermill": {
     "duration": 1.023033,
     "end_time": "2022-01-30T09:05:02.772334",
     "exception": false,
     "start_time": "2022-01-30T09:05:01.749301",
     "status": "completed"
    },
    "tags": []
   },
   "outputs": [],
   "source": [
    "# importing all the libraries required\n",
    "\n",
    "import os\n",
    "import pandas as pd\n",
    "import numpy as np\n",
    "import matplotlib.pyplot as plt\n",
    "import seaborn as sns\n",
    "import datetime as dt\n"
   ]
  },
  {
   "cell_type": "code",
   "execution_count": 2,
   "id": "dc9b28cc",
   "metadata": {
    "execution": {
     "iopub.execute_input": "2022-01-30T09:05:02.884007Z",
     "iopub.status.busy": "2022-01-30T09:05:02.883390Z",
     "iopub.status.idle": "2022-01-30T09:05:02.970653Z",
     "shell.execute_reply": "2022-01-30T09:05:02.971228Z",
     "shell.execute_reply.started": "2022-01-30T08:59:11.250029Z"
    },
    "papermill": {
     "duration": 0.144689,
     "end_time": "2022-01-30T09:05:02.971404",
     "exception": false,
     "start_time": "2022-01-30T09:05:02.826715",
     "status": "completed"
    },
    "tags": []
   },
   "outputs": [],
   "source": [
    "# get working directory (CWD)\n",
    "path = os.getcwd()\n",
    "\n",
    "#importing files from the directory\n",
    "\n",
    "customer = pd.read_csv(\"../input/retail-casestudy-dataset/Customer.csv\", sep=',')\n",
    "transactions = pd.read_csv(\"../input/retail-casestudy-dataset/Transactions.csv\", sep=',')\n",
    "prod_cat_info = pd.read_csv(\"../input/retail-casestudy-dataset/prod_cat_info.csv\", sep=',')"
   ]
  },
  {
   "cell_type": "markdown",
   "id": "b39dfe94",
   "metadata": {
    "papermill": {
     "duration": 0.054951,
     "end_time": "2022-01-30T09:05:03.082014",
     "exception": false,
     "start_time": "2022-01-30T09:05:03.027063",
     "status": "completed"
    },
    "tags": []
   },
   "source": [
    "#### Getting information about all data sets to see the attributes and datatypes and also the shape. </br>\n",
    "#### This is to understand how to merge the datasets and which should be the primary key."
   ]
  },
  {
   "cell_type": "code",
   "execution_count": 3,
   "id": "0d7b7c09",
   "metadata": {
    "execution": {
     "iopub.execute_input": "2022-01-30T09:05:03.198594Z",
     "iopub.status.busy": "2022-01-30T09:05:03.197607Z",
     "iopub.status.idle": "2022-01-30T09:05:03.233963Z",
     "shell.execute_reply": "2022-01-30T09:05:03.234466Z",
     "shell.execute_reply.started": "2022-01-30T08:59:11.310215Z"
    },
    "papermill": {
     "duration": 0.097546,
     "end_time": "2022-01-30T09:05:03.234630",
     "exception": false,
     "start_time": "2022-01-30T09:05:03.137084",
     "status": "completed"
    },
    "tags": []
   },
   "outputs": [
    {
     "name": "stdout",
     "output_type": "stream",
     "text": [
      "<class 'pandas.core.frame.DataFrame'>\n",
      "RangeIndex: 23 entries, 0 to 22\n",
      "Data columns (total 4 columns):\n",
      " #   Column             Non-Null Count  Dtype \n",
      "---  ------             --------------  ----- \n",
      " 0   prod_cat_code      23 non-null     int64 \n",
      " 1   prod_cat           23 non-null     object\n",
      " 2   prod_sub_cat_code  23 non-null     int64 \n",
      " 3   prod_subcat        23 non-null     object\n",
      "dtypes: int64(2), object(2)\n",
      "memory usage: 864.0+ bytes\n",
      "None\n"
     ]
    },
    {
     "data": {
      "text/html": [
       "<div>\n",
       "<style scoped>\n",
       "    .dataframe tbody tr th:only-of-type {\n",
       "        vertical-align: middle;\n",
       "    }\n",
       "\n",
       "    .dataframe tbody tr th {\n",
       "        vertical-align: top;\n",
       "    }\n",
       "\n",
       "    .dataframe thead th {\n",
       "        text-align: right;\n",
       "    }\n",
       "</style>\n",
       "<table border=\"1\" class=\"dataframe\">\n",
       "  <thead>\n",
       "    <tr style=\"text-align: right;\">\n",
       "      <th></th>\n",
       "      <th>prod_cat_code</th>\n",
       "      <th>prod_cat</th>\n",
       "      <th>prod_sub_cat_code</th>\n",
       "      <th>prod_subcat</th>\n",
       "    </tr>\n",
       "  </thead>\n",
       "  <tbody>\n",
       "    <tr>\n",
       "      <th>0</th>\n",
       "      <td>1</td>\n",
       "      <td>Clothing</td>\n",
       "      <td>4</td>\n",
       "      <td>Mens</td>\n",
       "    </tr>\n",
       "    <tr>\n",
       "      <th>1</th>\n",
       "      <td>1</td>\n",
       "      <td>Clothing</td>\n",
       "      <td>1</td>\n",
       "      <td>Women</td>\n",
       "    </tr>\n",
       "    <tr>\n",
       "      <th>2</th>\n",
       "      <td>1</td>\n",
       "      <td>Clothing</td>\n",
       "      <td>3</td>\n",
       "      <td>Kids</td>\n",
       "    </tr>\n",
       "    <tr>\n",
       "      <th>3</th>\n",
       "      <td>2</td>\n",
       "      <td>Footwear</td>\n",
       "      <td>1</td>\n",
       "      <td>Mens</td>\n",
       "    </tr>\n",
       "    <tr>\n",
       "      <th>4</th>\n",
       "      <td>2</td>\n",
       "      <td>Footwear</td>\n",
       "      <td>3</td>\n",
       "      <td>Women</td>\n",
       "    </tr>\n",
       "  </tbody>\n",
       "</table>\n",
       "</div>"
      ],
      "text/plain": [
       "   prod_cat_code  prod_cat  prod_sub_cat_code prod_subcat\n",
       "0              1  Clothing                  4        Mens\n",
       "1              1  Clothing                  1       Women\n",
       "2              1  Clothing                  3        Kids\n",
       "3              2  Footwear                  1        Mens\n",
       "4              2  Footwear                  3       Women"
      ]
     },
     "execution_count": 3,
     "metadata": {},
     "output_type": "execute_result"
    }
   ],
   "source": [
    "print(prod_cat_info.info())\n",
    "prod_cat_info.head()"
   ]
  },
  {
   "cell_type": "code",
   "execution_count": 4,
   "id": "12d15427",
   "metadata": {
    "execution": {
     "iopub.execute_input": "2022-01-30T09:05:03.351464Z",
     "iopub.status.busy": "2022-01-30T09:05:03.350573Z",
     "iopub.status.idle": "2022-01-30T09:05:03.375723Z",
     "shell.execute_reply": "2022-01-30T09:05:03.376251Z",
     "shell.execute_reply.started": "2022-01-30T08:59:11.341286Z"
    },
    "papermill": {
     "duration": 0.086058,
     "end_time": "2022-01-30T09:05:03.376434",
     "exception": false,
     "start_time": "2022-01-30T09:05:03.290376",
     "status": "completed"
    },
    "tags": []
   },
   "outputs": [
    {
     "name": "stdout",
     "output_type": "stream",
     "text": [
      "<class 'pandas.core.frame.DataFrame'>\n",
      "RangeIndex: 23053 entries, 0 to 23052\n",
      "Data columns (total 10 columns):\n",
      " #   Column            Non-Null Count  Dtype  \n",
      "---  ------            --------------  -----  \n",
      " 0   transaction_id    23053 non-null  int64  \n",
      " 1   cust_id           23053 non-null  int64  \n",
      " 2   tran_date         23053 non-null  object \n",
      " 3   prod_subcat_code  23053 non-null  int64  \n",
      " 4   prod_cat_code     23053 non-null  int64  \n",
      " 5   Qty               23053 non-null  int64  \n",
      " 6   Rate              23053 non-null  int64  \n",
      " 7   Tax               23053 non-null  float64\n",
      " 8   total_amt         23053 non-null  float64\n",
      " 9   Store_type        23053 non-null  object \n",
      "dtypes: float64(2), int64(6), object(2)\n",
      "memory usage: 1.8+ MB\n",
      "None\n"
     ]
    },
    {
     "data": {
      "text/html": [
       "<div>\n",
       "<style scoped>\n",
       "    .dataframe tbody tr th:only-of-type {\n",
       "        vertical-align: middle;\n",
       "    }\n",
       "\n",
       "    .dataframe tbody tr th {\n",
       "        vertical-align: top;\n",
       "    }\n",
       "\n",
       "    .dataframe thead th {\n",
       "        text-align: right;\n",
       "    }\n",
       "</style>\n",
       "<table border=\"1\" class=\"dataframe\">\n",
       "  <thead>\n",
       "    <tr style=\"text-align: right;\">\n",
       "      <th></th>\n",
       "      <th>transaction_id</th>\n",
       "      <th>cust_id</th>\n",
       "      <th>tran_date</th>\n",
       "      <th>prod_subcat_code</th>\n",
       "      <th>prod_cat_code</th>\n",
       "      <th>Qty</th>\n",
       "      <th>Rate</th>\n",
       "      <th>Tax</th>\n",
       "      <th>total_amt</th>\n",
       "      <th>Store_type</th>\n",
       "    </tr>\n",
       "  </thead>\n",
       "  <tbody>\n",
       "    <tr>\n",
       "      <th>0</th>\n",
       "      <td>80712190438</td>\n",
       "      <td>270351</td>\n",
       "      <td>28-02-2014</td>\n",
       "      <td>1</td>\n",
       "      <td>1</td>\n",
       "      <td>-5</td>\n",
       "      <td>-772</td>\n",
       "      <td>405.300</td>\n",
       "      <td>-4265.300</td>\n",
       "      <td>e-Shop</td>\n",
       "    </tr>\n",
       "    <tr>\n",
       "      <th>1</th>\n",
       "      <td>29258453508</td>\n",
       "      <td>270384</td>\n",
       "      <td>27-02-2014</td>\n",
       "      <td>5</td>\n",
       "      <td>3</td>\n",
       "      <td>-5</td>\n",
       "      <td>-1497</td>\n",
       "      <td>785.925</td>\n",
       "      <td>-8270.925</td>\n",
       "      <td>e-Shop</td>\n",
       "    </tr>\n",
       "    <tr>\n",
       "      <th>2</th>\n",
       "      <td>51750724947</td>\n",
       "      <td>273420</td>\n",
       "      <td>24-02-2014</td>\n",
       "      <td>6</td>\n",
       "      <td>5</td>\n",
       "      <td>-2</td>\n",
       "      <td>-791</td>\n",
       "      <td>166.110</td>\n",
       "      <td>-1748.110</td>\n",
       "      <td>TeleShop</td>\n",
       "    </tr>\n",
       "    <tr>\n",
       "      <th>3</th>\n",
       "      <td>93274880719</td>\n",
       "      <td>271509</td>\n",
       "      <td>24-02-2014</td>\n",
       "      <td>11</td>\n",
       "      <td>6</td>\n",
       "      <td>-3</td>\n",
       "      <td>-1363</td>\n",
       "      <td>429.345</td>\n",
       "      <td>-4518.345</td>\n",
       "      <td>e-Shop</td>\n",
       "    </tr>\n",
       "    <tr>\n",
       "      <th>4</th>\n",
       "      <td>51750724947</td>\n",
       "      <td>273420</td>\n",
       "      <td>23-02-2014</td>\n",
       "      <td>6</td>\n",
       "      <td>5</td>\n",
       "      <td>-2</td>\n",
       "      <td>-791</td>\n",
       "      <td>166.110</td>\n",
       "      <td>-1748.110</td>\n",
       "      <td>TeleShop</td>\n",
       "    </tr>\n",
       "  </tbody>\n",
       "</table>\n",
       "</div>"
      ],
      "text/plain": [
       "   transaction_id  cust_id   tran_date  prod_subcat_code  prod_cat_code  Qty  \\\n",
       "0     80712190438   270351  28-02-2014                 1              1   -5   \n",
       "1     29258453508   270384  27-02-2014                 5              3   -5   \n",
       "2     51750724947   273420  24-02-2014                 6              5   -2   \n",
       "3     93274880719   271509  24-02-2014                11              6   -3   \n",
       "4     51750724947   273420  23-02-2014                 6              5   -2   \n",
       "\n",
       "   Rate      Tax  total_amt Store_type  \n",
       "0  -772  405.300  -4265.300     e-Shop  \n",
       "1 -1497  785.925  -8270.925     e-Shop  \n",
       "2  -791  166.110  -1748.110   TeleShop  \n",
       "3 -1363  429.345  -4518.345     e-Shop  \n",
       "4  -791  166.110  -1748.110   TeleShop  "
      ]
     },
     "execution_count": 4,
     "metadata": {},
     "output_type": "execute_result"
    }
   ],
   "source": [
    "print(transactions.info())\n",
    "transactions.head()"
   ]
  },
  {
   "cell_type": "code",
   "execution_count": 5,
   "id": "ac3f4566",
   "metadata": {
    "execution": {
     "iopub.execute_input": "2022-01-30T09:05:03.492366Z",
     "iopub.status.busy": "2022-01-30T09:05:03.491387Z",
     "iopub.status.idle": "2022-01-30T09:05:03.510396Z",
     "shell.execute_reply": "2022-01-30T09:05:03.511012Z",
     "shell.execute_reply.started": "2022-01-30T08:59:11.376682Z"
    },
    "papermill": {
     "duration": 0.078668,
     "end_time": "2022-01-30T09:05:03.511198",
     "exception": false,
     "start_time": "2022-01-30T09:05:03.432530",
     "status": "completed"
    },
    "scrolled": true,
    "tags": []
   },
   "outputs": [
    {
     "name": "stdout",
     "output_type": "stream",
     "text": [
      "<class 'pandas.core.frame.DataFrame'>\n",
      "RangeIndex: 5647 entries, 0 to 5646\n",
      "Data columns (total 4 columns):\n",
      " #   Column       Non-Null Count  Dtype  \n",
      "---  ------       --------------  -----  \n",
      " 0   customer_Id  5647 non-null   int64  \n",
      " 1   DOB          5647 non-null   object \n",
      " 2   Gender       5645 non-null   object \n",
      " 3   city_code    5645 non-null   float64\n",
      "dtypes: float64(1), int64(1), object(2)\n",
      "memory usage: 176.6+ KB\n"
     ]
    },
    {
     "data": {
      "text/html": [
       "<div>\n",
       "<style scoped>\n",
       "    .dataframe tbody tr th:only-of-type {\n",
       "        vertical-align: middle;\n",
       "    }\n",
       "\n",
       "    .dataframe tbody tr th {\n",
       "        vertical-align: top;\n",
       "    }\n",
       "\n",
       "    .dataframe thead th {\n",
       "        text-align: right;\n",
       "    }\n",
       "</style>\n",
       "<table border=\"1\" class=\"dataframe\">\n",
       "  <thead>\n",
       "    <tr style=\"text-align: right;\">\n",
       "      <th></th>\n",
       "      <th>customer_Id</th>\n",
       "      <th>DOB</th>\n",
       "      <th>Gender</th>\n",
       "      <th>city_code</th>\n",
       "    </tr>\n",
       "  </thead>\n",
       "  <tbody>\n",
       "    <tr>\n",
       "      <th>0</th>\n",
       "      <td>268408</td>\n",
       "      <td>02-01-1970</td>\n",
       "      <td>M</td>\n",
       "      <td>4.0</td>\n",
       "    </tr>\n",
       "    <tr>\n",
       "      <th>1</th>\n",
       "      <td>269696</td>\n",
       "      <td>07-01-1970</td>\n",
       "      <td>F</td>\n",
       "      <td>8.0</td>\n",
       "    </tr>\n",
       "    <tr>\n",
       "      <th>2</th>\n",
       "      <td>268159</td>\n",
       "      <td>08-01-1970</td>\n",
       "      <td>F</td>\n",
       "      <td>8.0</td>\n",
       "    </tr>\n",
       "    <tr>\n",
       "      <th>3</th>\n",
       "      <td>270181</td>\n",
       "      <td>10-01-1970</td>\n",
       "      <td>F</td>\n",
       "      <td>2.0</td>\n",
       "    </tr>\n",
       "    <tr>\n",
       "      <th>4</th>\n",
       "      <td>268073</td>\n",
       "      <td>11-01-1970</td>\n",
       "      <td>M</td>\n",
       "      <td>1.0</td>\n",
       "    </tr>\n",
       "  </tbody>\n",
       "</table>\n",
       "</div>"
      ],
      "text/plain": [
       "   customer_Id         DOB Gender  city_code\n",
       "0       268408  02-01-1970      M        4.0\n",
       "1       269696  07-01-1970      F        8.0\n",
       "2       268159  08-01-1970      F        8.0\n",
       "3       270181  10-01-1970      F        2.0\n",
       "4       268073  11-01-1970      M        1.0"
      ]
     },
     "execution_count": 5,
     "metadata": {},
     "output_type": "execute_result"
    }
   ],
   "source": [
    "customer.info()\n",
    "customer.head()"
   ]
  },
  {
   "cell_type": "code",
   "execution_count": 6,
   "id": "bb931194",
   "metadata": {
    "execution": {
     "iopub.execute_input": "2022-01-30T09:05:03.630604Z",
     "iopub.status.busy": "2022-01-30T09:05:03.629908Z",
     "iopub.status.idle": "2022-01-30T09:05:03.632783Z",
     "shell.execute_reply": "2022-01-30T09:05:03.633349Z",
     "shell.execute_reply.started": "2022-01-30T08:59:11.398966Z"
    },
    "papermill": {
     "duration": 0.065511,
     "end_time": "2022-01-30T09:05:03.633517",
     "exception": false,
     "start_time": "2022-01-30T09:05:03.568006",
     "status": "completed"
    },
    "tags": []
   },
   "outputs": [
    {
     "name": "stdout",
     "output_type": "stream",
     "text": [
      "Unique customer ID's in Transactions Dataframe: 5506\n"
     ]
    }
   ],
   "source": [
    "print(f\"Unique customer ID's in Transactions Dataframe: {len(transactions.cust_id.unique())}\")"
   ]
  },
  {
   "cell_type": "code",
   "execution_count": 7,
   "id": "718dfad8",
   "metadata": {
    "execution": {
     "iopub.execute_input": "2022-01-30T09:05:03.753750Z",
     "iopub.status.busy": "2022-01-30T09:05:03.752816Z",
     "iopub.status.idle": "2022-01-30T09:05:03.755986Z",
     "shell.execute_reply": "2022-01-30T09:05:03.756575Z",
     "shell.execute_reply.started": "2022-01-30T08:59:11.407042Z"
    },
    "papermill": {
     "duration": 0.065972,
     "end_time": "2022-01-30T09:05:03.756735",
     "exception": false,
     "start_time": "2022-01-30T09:05:03.690763",
     "status": "completed"
    },
    "tags": []
   },
   "outputs": [
    {
     "name": "stdout",
     "output_type": "stream",
     "text": [
      "Unique customer ID's in Csutomer Dataframe: 5647\n"
     ]
    }
   ],
   "source": [
    "print(f\"Unique customer ID's in Csutomer Dataframe: {len(customer.customer_Id.unique())}\")"
   ]
  },
  {
   "cell_type": "markdown",
   "id": "e125bb1c",
   "metadata": {
    "papermill": {
     "duration": 0.059114,
     "end_time": "2022-01-30T09:05:03.873676",
     "exception": false,
     "start_time": "2022-01-30T09:05:03.814562",
     "status": "completed"
    },
    "tags": []
   },
   "source": [
    "#### Few attributes that are common to datasets (Primary Key) for merging the data are not of same name. Hence maintaining same nomenclature for common attribues. </br>\n",
    "#### Here transaction dataset nomenclature were kept as standard for renaming the datasets"
   ]
  },
  {
   "cell_type": "code",
   "execution_count": 8,
   "id": "d5a57f45",
   "metadata": {
    "execution": {
     "iopub.execute_input": "2022-01-30T09:05:03.998786Z",
     "iopub.status.busy": "2022-01-30T09:05:03.994709Z",
     "iopub.status.idle": "2022-01-30T09:05:04.007274Z",
     "shell.execute_reply": "2022-01-30T09:05:04.007770Z",
     "shell.execute_reply.started": "2022-01-30T08:59:11.420046Z"
    },
    "papermill": {
     "duration": 0.075538,
     "end_time": "2022-01-30T09:05:04.007961",
     "exception": false,
     "start_time": "2022-01-30T09:05:03.932423",
     "status": "completed"
    },
    "tags": []
   },
   "outputs": [
    {
     "data": {
      "text/html": [
       "<div>\n",
       "<style scoped>\n",
       "    .dataframe tbody tr th:only-of-type {\n",
       "        vertical-align: middle;\n",
       "    }\n",
       "\n",
       "    .dataframe tbody tr th {\n",
       "        vertical-align: top;\n",
       "    }\n",
       "\n",
       "    .dataframe thead th {\n",
       "        text-align: right;\n",
       "    }\n",
       "</style>\n",
       "<table border=\"1\" class=\"dataframe\">\n",
       "  <thead>\n",
       "    <tr style=\"text-align: right;\">\n",
       "      <th></th>\n",
       "      <th>cust_id</th>\n",
       "      <th>DOB</th>\n",
       "      <th>Gender</th>\n",
       "      <th>city_code</th>\n",
       "    </tr>\n",
       "  </thead>\n",
       "  <tbody>\n",
       "    <tr>\n",
       "      <th>0</th>\n",
       "      <td>268408</td>\n",
       "      <td>02-01-1970</td>\n",
       "      <td>M</td>\n",
       "      <td>4.0</td>\n",
       "    </tr>\n",
       "    <tr>\n",
       "      <th>1</th>\n",
       "      <td>269696</td>\n",
       "      <td>07-01-1970</td>\n",
       "      <td>F</td>\n",
       "      <td>8.0</td>\n",
       "    </tr>\n",
       "    <tr>\n",
       "      <th>2</th>\n",
       "      <td>268159</td>\n",
       "      <td>08-01-1970</td>\n",
       "      <td>F</td>\n",
       "      <td>8.0</td>\n",
       "    </tr>\n",
       "    <tr>\n",
       "      <th>3</th>\n",
       "      <td>270181</td>\n",
       "      <td>10-01-1970</td>\n",
       "      <td>F</td>\n",
       "      <td>2.0</td>\n",
       "    </tr>\n",
       "    <tr>\n",
       "      <th>4</th>\n",
       "      <td>268073</td>\n",
       "      <td>11-01-1970</td>\n",
       "      <td>M</td>\n",
       "      <td>1.0</td>\n",
       "    </tr>\n",
       "  </tbody>\n",
       "</table>\n",
       "</div>"
      ],
      "text/plain": [
       "   cust_id         DOB Gender  city_code\n",
       "0   268408  02-01-1970      M        4.0\n",
       "1   269696  07-01-1970      F        8.0\n",
       "2   268159  08-01-1970      F        8.0\n",
       "3   270181  10-01-1970      F        2.0\n",
       "4   268073  11-01-1970      M        1.0"
      ]
     },
     "execution_count": 8,
     "metadata": {},
     "output_type": "execute_result"
    }
   ],
   "source": [
    "# renaming customer dataset as per the transaction dataset\n",
    "customer.rename(columns={'customer_Id': 'cust_id'}, inplace=True)\n",
    "customer.head()"
   ]
  },
  {
   "cell_type": "code",
   "execution_count": 9,
   "id": "89d8d9d7",
   "metadata": {
    "execution": {
     "iopub.execute_input": "2022-01-30T09:05:04.137012Z",
     "iopub.status.busy": "2022-01-30T09:05:04.136352Z",
     "iopub.status.idle": "2022-01-30T09:05:04.138821Z",
     "shell.execute_reply": "2022-01-30T09:05:04.139410Z",
     "shell.execute_reply.started": "2022-01-30T08:59:11.440570Z"
    },
    "papermill": {
     "duration": 0.071869,
     "end_time": "2022-01-30T09:05:04.139573",
     "exception": false,
     "start_time": "2022-01-30T09:05:04.067704",
     "status": "completed"
    },
    "scrolled": true,
    "tags": []
   },
   "outputs": [
    {
     "data": {
      "text/html": [
       "<div>\n",
       "<style scoped>\n",
       "    .dataframe tbody tr th:only-of-type {\n",
       "        vertical-align: middle;\n",
       "    }\n",
       "\n",
       "    .dataframe tbody tr th {\n",
       "        vertical-align: top;\n",
       "    }\n",
       "\n",
       "    .dataframe thead th {\n",
       "        text-align: right;\n",
       "    }\n",
       "</style>\n",
       "<table border=\"1\" class=\"dataframe\">\n",
       "  <thead>\n",
       "    <tr style=\"text-align: right;\">\n",
       "      <th></th>\n",
       "      <th>prod_cat_code</th>\n",
       "      <th>prod_cat</th>\n",
       "      <th>prod_subcat_code</th>\n",
       "      <th>prod_subcat</th>\n",
       "    </tr>\n",
       "  </thead>\n",
       "  <tbody>\n",
       "    <tr>\n",
       "      <th>0</th>\n",
       "      <td>1</td>\n",
       "      <td>Clothing</td>\n",
       "      <td>4</td>\n",
       "      <td>Mens</td>\n",
       "    </tr>\n",
       "    <tr>\n",
       "      <th>1</th>\n",
       "      <td>1</td>\n",
       "      <td>Clothing</td>\n",
       "      <td>1</td>\n",
       "      <td>Women</td>\n",
       "    </tr>\n",
       "    <tr>\n",
       "      <th>2</th>\n",
       "      <td>1</td>\n",
       "      <td>Clothing</td>\n",
       "      <td>3</td>\n",
       "      <td>Kids</td>\n",
       "    </tr>\n",
       "    <tr>\n",
       "      <th>3</th>\n",
       "      <td>2</td>\n",
       "      <td>Footwear</td>\n",
       "      <td>1</td>\n",
       "      <td>Mens</td>\n",
       "    </tr>\n",
       "    <tr>\n",
       "      <th>4</th>\n",
       "      <td>2</td>\n",
       "      <td>Footwear</td>\n",
       "      <td>3</td>\n",
       "      <td>Women</td>\n",
       "    </tr>\n",
       "  </tbody>\n",
       "</table>\n",
       "</div>"
      ],
      "text/plain": [
       "   prod_cat_code  prod_cat  prod_subcat_code prod_subcat\n",
       "0              1  Clothing                 4        Mens\n",
       "1              1  Clothing                 1       Women\n",
       "2              1  Clothing                 3        Kids\n",
       "3              2  Footwear                 1        Mens\n",
       "4              2  Footwear                 3       Women"
      ]
     },
     "execution_count": 9,
     "metadata": {},
     "output_type": "execute_result"
    }
   ],
   "source": [
    "prod_cat_info.rename(columns={'prod_sub_cat_code': 'prod_subcat_code'}, inplace=True)\n",
    "prod_cat_info.head()"
   ]
  },
  {
   "cell_type": "markdown",
   "id": "08a86c7b",
   "metadata": {
    "papermill": {
     "duration": 0.05801,
     "end_time": "2022-01-30T09:05:04.256705",
     "exception": false,
     "start_time": "2022-01-30T09:05:04.198695",
     "status": "completed"
    },
    "tags": []
   },
   "source": [
    "#### The attribute names were standardized. Now datasets are to be merged for further processing."
   ]
  },
  {
   "cell_type": "code",
   "execution_count": 10,
   "id": "745f7cdd",
   "metadata": {
    "execution": {
     "iopub.execute_input": "2022-01-30T09:05:04.379915Z",
     "iopub.status.busy": "2022-01-30T09:05:04.379282Z",
     "iopub.status.idle": "2022-01-30T09:05:04.406214Z",
     "shell.execute_reply": "2022-01-30T09:05:04.405561Z",
     "shell.execute_reply.started": "2022-01-30T08:59:11.454950Z"
    },
    "papermill": {
     "duration": 0.090741,
     "end_time": "2022-01-30T09:05:04.406353",
     "exception": false,
     "start_time": "2022-01-30T09:05:04.315612",
     "status": "completed"
    },
    "tags": []
   },
   "outputs": [
    {
     "data": {
      "text/html": [
       "<div>\n",
       "<style scoped>\n",
       "    .dataframe tbody tr th:only-of-type {\n",
       "        vertical-align: middle;\n",
       "    }\n",
       "\n",
       "    .dataframe tbody tr th {\n",
       "        vertical-align: top;\n",
       "    }\n",
       "\n",
       "    .dataframe thead th {\n",
       "        text-align: right;\n",
       "    }\n",
       "</style>\n",
       "<table border=\"1\" class=\"dataframe\">\n",
       "  <thead>\n",
       "    <tr style=\"text-align: right;\">\n",
       "      <th></th>\n",
       "      <th>transaction_id</th>\n",
       "      <th>cust_id</th>\n",
       "      <th>tran_date</th>\n",
       "      <th>prod_subcat_code</th>\n",
       "      <th>prod_cat_code</th>\n",
       "      <th>Qty</th>\n",
       "      <th>Rate</th>\n",
       "      <th>Tax</th>\n",
       "      <th>total_amt</th>\n",
       "      <th>Store_type</th>\n",
       "      <th>prod_cat</th>\n",
       "      <th>prod_subcat</th>\n",
       "    </tr>\n",
       "  </thead>\n",
       "  <tbody>\n",
       "    <tr>\n",
       "      <th>0</th>\n",
       "      <td>80712190438</td>\n",
       "      <td>270351</td>\n",
       "      <td>28-02-2014</td>\n",
       "      <td>1</td>\n",
       "      <td>1</td>\n",
       "      <td>-5</td>\n",
       "      <td>-772</td>\n",
       "      <td>405.300</td>\n",
       "      <td>-4265.300</td>\n",
       "      <td>e-Shop</td>\n",
       "      <td>Clothing</td>\n",
       "      <td>Women</td>\n",
       "    </tr>\n",
       "    <tr>\n",
       "      <th>1</th>\n",
       "      <td>29258453508</td>\n",
       "      <td>270384</td>\n",
       "      <td>27-02-2014</td>\n",
       "      <td>5</td>\n",
       "      <td>3</td>\n",
       "      <td>-5</td>\n",
       "      <td>-1497</td>\n",
       "      <td>785.925</td>\n",
       "      <td>-8270.925</td>\n",
       "      <td>e-Shop</td>\n",
       "      <td>Electronics</td>\n",
       "      <td>Computers</td>\n",
       "    </tr>\n",
       "    <tr>\n",
       "      <th>2</th>\n",
       "      <td>51750724947</td>\n",
       "      <td>273420</td>\n",
       "      <td>24-02-2014</td>\n",
       "      <td>6</td>\n",
       "      <td>5</td>\n",
       "      <td>-2</td>\n",
       "      <td>-791</td>\n",
       "      <td>166.110</td>\n",
       "      <td>-1748.110</td>\n",
       "      <td>TeleShop</td>\n",
       "      <td>Books</td>\n",
       "      <td>DIY</td>\n",
       "    </tr>\n",
       "    <tr>\n",
       "      <th>3</th>\n",
       "      <td>93274880719</td>\n",
       "      <td>271509</td>\n",
       "      <td>24-02-2014</td>\n",
       "      <td>11</td>\n",
       "      <td>6</td>\n",
       "      <td>-3</td>\n",
       "      <td>-1363</td>\n",
       "      <td>429.345</td>\n",
       "      <td>-4518.345</td>\n",
       "      <td>e-Shop</td>\n",
       "      <td>Home and kitchen</td>\n",
       "      <td>Bath</td>\n",
       "    </tr>\n",
       "    <tr>\n",
       "      <th>4</th>\n",
       "      <td>51750724947</td>\n",
       "      <td>273420</td>\n",
       "      <td>23-02-2014</td>\n",
       "      <td>6</td>\n",
       "      <td>5</td>\n",
       "      <td>-2</td>\n",
       "      <td>-791</td>\n",
       "      <td>166.110</td>\n",
       "      <td>-1748.110</td>\n",
       "      <td>TeleShop</td>\n",
       "      <td>Books</td>\n",
       "      <td>DIY</td>\n",
       "    </tr>\n",
       "  </tbody>\n",
       "</table>\n",
       "</div>"
      ],
      "text/plain": [
       "   transaction_id  cust_id   tran_date  prod_subcat_code  prod_cat_code  Qty  \\\n",
       "0     80712190438   270351  28-02-2014                 1              1   -5   \n",
       "1     29258453508   270384  27-02-2014                 5              3   -5   \n",
       "2     51750724947   273420  24-02-2014                 6              5   -2   \n",
       "3     93274880719   271509  24-02-2014                11              6   -3   \n",
       "4     51750724947   273420  23-02-2014                 6              5   -2   \n",
       "\n",
       "   Rate      Tax  total_amt Store_type          prod_cat prod_subcat  \n",
       "0  -772  405.300  -4265.300     e-Shop          Clothing       Women  \n",
       "1 -1497  785.925  -8270.925     e-Shop       Electronics   Computers  \n",
       "2  -791  166.110  -1748.110   TeleShop             Books         DIY  \n",
       "3 -1363  429.345  -4518.345     e-Shop  Home and kitchen        Bath  \n",
       "4  -791  166.110  -1748.110   TeleShop             Books         DIY  "
      ]
     },
     "execution_count": 10,
     "metadata": {},
     "output_type": "execute_result"
    }
   ],
   "source": [
    "final = transactions.merge(prod_cat_info, how='left',\n",
    "                           on=['prod_cat_code', 'prod_subcat_code']\n",
    "                )\n",
    "final.head()"
   ]
  },
  {
   "cell_type": "code",
   "execution_count": 11,
   "id": "6d63e969",
   "metadata": {
    "execution": {
     "iopub.execute_input": "2022-01-30T09:05:04.534774Z",
     "iopub.status.busy": "2022-01-30T09:05:04.531904Z",
     "iopub.status.idle": "2022-01-30T09:05:04.599524Z",
     "shell.execute_reply": "2022-01-30T09:05:04.600033Z",
     "shell.execute_reply.started": "2022-01-30T08:59:11.486086Z"
    },
    "papermill": {
     "duration": 0.134554,
     "end_time": "2022-01-30T09:05:04.600233",
     "exception": false,
     "start_time": "2022-01-30T09:05:04.465679",
     "status": "completed"
    },
    "tags": []
   },
   "outputs": [
    {
     "name": "stdout",
     "output_type": "stream",
     "text": [
      "<class 'pandas.core.frame.DataFrame'>\n",
      "Int64Index: 23053 entries, 0 to 23052\n",
      "Data columns (total 15 columns):\n",
      " #   Column            Non-Null Count  Dtype  \n",
      "---  ------            --------------  -----  \n",
      " 0   transaction_id    23053 non-null  int64  \n",
      " 1   cust_id           23053 non-null  int64  \n",
      " 2   tran_date         23053 non-null  object \n",
      " 3   prod_subcat_code  23053 non-null  int64  \n",
      " 4   prod_cat_code     23053 non-null  int64  \n",
      " 5   Qty               23053 non-null  int64  \n",
      " 6   Rate              23053 non-null  int64  \n",
      " 7   Tax               23053 non-null  float64\n",
      " 8   total_amt         23053 non-null  float64\n",
      " 9   Store_type        23053 non-null  object \n",
      " 10  prod_cat          23053 non-null  object \n",
      " 11  prod_subcat       23053 non-null  object \n",
      " 12  DOB               23053 non-null  object \n",
      " 13  Gender            23044 non-null  object \n",
      " 14  city_code         23045 non-null  float64\n",
      "dtypes: float64(3), int64(6), object(6)\n",
      "memory usage: 2.8+ MB\n",
      "None\n"
     ]
    },
    {
     "data": {
      "text/html": [
       "<div>\n",
       "<style scoped>\n",
       "    .dataframe tbody tr th:only-of-type {\n",
       "        vertical-align: middle;\n",
       "    }\n",
       "\n",
       "    .dataframe tbody tr th {\n",
       "        vertical-align: top;\n",
       "    }\n",
       "\n",
       "    .dataframe thead th {\n",
       "        text-align: right;\n",
       "    }\n",
       "</style>\n",
       "<table border=\"1\" class=\"dataframe\">\n",
       "  <thead>\n",
       "    <tr style=\"text-align: right;\">\n",
       "      <th></th>\n",
       "      <th>transaction_id</th>\n",
       "      <th>cust_id</th>\n",
       "      <th>tran_date</th>\n",
       "      <th>prod_subcat_code</th>\n",
       "      <th>prod_cat_code</th>\n",
       "      <th>Qty</th>\n",
       "      <th>Rate</th>\n",
       "      <th>Tax</th>\n",
       "      <th>total_amt</th>\n",
       "      <th>Store_type</th>\n",
       "      <th>prod_cat</th>\n",
       "      <th>prod_subcat</th>\n",
       "      <th>DOB</th>\n",
       "      <th>Gender</th>\n",
       "      <th>city_code</th>\n",
       "    </tr>\n",
       "  </thead>\n",
       "  <tbody>\n",
       "    <tr>\n",
       "      <th>0</th>\n",
       "      <td>80712190438</td>\n",
       "      <td>270351</td>\n",
       "      <td>28-02-2014</td>\n",
       "      <td>1</td>\n",
       "      <td>1</td>\n",
       "      <td>-5</td>\n",
       "      <td>-772</td>\n",
       "      <td>405.300</td>\n",
       "      <td>-4265.300</td>\n",
       "      <td>e-Shop</td>\n",
       "      <td>Clothing</td>\n",
       "      <td>Women</td>\n",
       "      <td>26-09-1981</td>\n",
       "      <td>M</td>\n",
       "      <td>5.0</td>\n",
       "    </tr>\n",
       "    <tr>\n",
       "      <th>1</th>\n",
       "      <td>29258453508</td>\n",
       "      <td>270384</td>\n",
       "      <td>27-02-2014</td>\n",
       "      <td>5</td>\n",
       "      <td>3</td>\n",
       "      <td>-5</td>\n",
       "      <td>-1497</td>\n",
       "      <td>785.925</td>\n",
       "      <td>-8270.925</td>\n",
       "      <td>e-Shop</td>\n",
       "      <td>Electronics</td>\n",
       "      <td>Computers</td>\n",
       "      <td>11-05-1973</td>\n",
       "      <td>F</td>\n",
       "      <td>8.0</td>\n",
       "    </tr>\n",
       "    <tr>\n",
       "      <th>2</th>\n",
       "      <td>51750724947</td>\n",
       "      <td>273420</td>\n",
       "      <td>24-02-2014</td>\n",
       "      <td>6</td>\n",
       "      <td>5</td>\n",
       "      <td>-2</td>\n",
       "      <td>-791</td>\n",
       "      <td>166.110</td>\n",
       "      <td>-1748.110</td>\n",
       "      <td>TeleShop</td>\n",
       "      <td>Books</td>\n",
       "      <td>DIY</td>\n",
       "      <td>27-07-1992</td>\n",
       "      <td>M</td>\n",
       "      <td>8.0</td>\n",
       "    </tr>\n",
       "    <tr>\n",
       "      <th>3</th>\n",
       "      <td>93274880719</td>\n",
       "      <td>271509</td>\n",
       "      <td>24-02-2014</td>\n",
       "      <td>11</td>\n",
       "      <td>6</td>\n",
       "      <td>-3</td>\n",
       "      <td>-1363</td>\n",
       "      <td>429.345</td>\n",
       "      <td>-4518.345</td>\n",
       "      <td>e-Shop</td>\n",
       "      <td>Home and kitchen</td>\n",
       "      <td>Bath</td>\n",
       "      <td>08-06-1981</td>\n",
       "      <td>M</td>\n",
       "      <td>3.0</td>\n",
       "    </tr>\n",
       "    <tr>\n",
       "      <th>4</th>\n",
       "      <td>51750724947</td>\n",
       "      <td>273420</td>\n",
       "      <td>23-02-2014</td>\n",
       "      <td>6</td>\n",
       "      <td>5</td>\n",
       "      <td>-2</td>\n",
       "      <td>-791</td>\n",
       "      <td>166.110</td>\n",
       "      <td>-1748.110</td>\n",
       "      <td>TeleShop</td>\n",
       "      <td>Books</td>\n",
       "      <td>DIY</td>\n",
       "      <td>27-07-1992</td>\n",
       "      <td>M</td>\n",
       "      <td>8.0</td>\n",
       "    </tr>\n",
       "  </tbody>\n",
       "</table>\n",
       "</div>"
      ],
      "text/plain": [
       "   transaction_id  cust_id   tran_date  prod_subcat_code  prod_cat_code  Qty  \\\n",
       "0     80712190438   270351  28-02-2014                 1              1   -5   \n",
       "1     29258453508   270384  27-02-2014                 5              3   -5   \n",
       "2     51750724947   273420  24-02-2014                 6              5   -2   \n",
       "3     93274880719   271509  24-02-2014                11              6   -3   \n",
       "4     51750724947   273420  23-02-2014                 6              5   -2   \n",
       "\n",
       "   Rate      Tax  total_amt Store_type          prod_cat prod_subcat  \\\n",
       "0  -772  405.300  -4265.300     e-Shop          Clothing       Women   \n",
       "1 -1497  785.925  -8270.925     e-Shop       Electronics   Computers   \n",
       "2  -791  166.110  -1748.110   TeleShop             Books         DIY   \n",
       "3 -1363  429.345  -4518.345     e-Shop  Home and kitchen        Bath   \n",
       "4  -791  166.110  -1748.110   TeleShop             Books         DIY   \n",
       "\n",
       "          DOB Gender  city_code  \n",
       "0  26-09-1981      M        5.0  \n",
       "1  11-05-1973      F        8.0  \n",
       "2  27-07-1992      M        8.0  \n",
       "3  08-06-1981      M        3.0  \n",
       "4  27-07-1992      M        8.0  "
      ]
     },
     "execution_count": 11,
     "metadata": {},
     "output_type": "execute_result"
    }
   ],
   "source": [
    "final = final.merge(customer, how='left',\n",
    "                           on=['cust_id']\n",
    "                )\n",
    "print(final.info())\n",
    "final.head()"
   ]
  },
  {
   "cell_type": "code",
   "execution_count": 12,
   "id": "5e1ec9bb",
   "metadata": {
    "execution": {
     "iopub.execute_input": "2022-01-30T09:05:04.748027Z",
     "iopub.status.busy": "2022-01-30T09:05:04.738207Z",
     "iopub.status.idle": "2022-01-30T09:05:04.763978Z",
     "shell.execute_reply": "2022-01-30T09:05:04.763203Z",
     "shell.execute_reply.started": "2022-01-30T08:59:11.541051Z"
    },
    "papermill": {
     "duration": 0.097057,
     "end_time": "2022-01-30T09:05:04.764180",
     "exception": false,
     "start_time": "2022-01-30T09:05:04.667123",
     "status": "completed"
    },
    "tags": []
   },
   "outputs": [
    {
     "name": "stdout",
     "output_type": "stream",
     "text": [
      "Total null values in the columns are :\n"
     ]
    },
    {
     "data": {
      "text/plain": [
       "transaction_id      0\n",
       "cust_id             0\n",
       "tran_date           0\n",
       "prod_subcat_code    0\n",
       "prod_cat_code       0\n",
       "Qty                 0\n",
       "Rate                0\n",
       "Tax                 0\n",
       "total_amt           0\n",
       "Store_type          0\n",
       "prod_cat            0\n",
       "prod_subcat         0\n",
       "DOB                 0\n",
       "Gender              9\n",
       "city_code           8\n",
       "dtype: int64"
      ]
     },
     "execution_count": 12,
     "metadata": {},
     "output_type": "execute_result"
    }
   ],
   "source": [
    "# Checking for null values in the datasets\n",
    "\n",
    "print(\"Total null values in the columns are :\")\n",
    "final.isnull().sum()"
   ]
  },
  {
   "cell_type": "markdown",
   "id": "2fbda01c",
   "metadata": {
    "papermill": {
     "duration": 0.06903,
     "end_time": "2022-01-30T09:05:04.911280",
     "exception": false,
     "start_time": "2022-01-30T09:05:04.842250",
     "status": "completed"
    },
    "tags": []
   },
   "source": [
    "**There are null values in Gender and City code columns. The instances with null values are to be removed.**"
   ]
  },
  {
   "cell_type": "code",
   "execution_count": 13,
   "id": "10cade9e",
   "metadata": {
    "execution": {
     "iopub.execute_input": "2022-01-30T09:05:05.041977Z",
     "iopub.status.busy": "2022-01-30T09:05:05.041069Z",
     "iopub.status.idle": "2022-01-30T09:05:05.086042Z",
     "shell.execute_reply": "2022-01-30T09:05:05.086811Z",
     "shell.execute_reply.started": "2022-01-30T08:59:11.567464Z"
    },
    "papermill": {
     "duration": 0.114217,
     "end_time": "2022-01-30T09:05:05.087077",
     "exception": false,
     "start_time": "2022-01-30T09:05:04.972860",
     "status": "completed"
    },
    "scrolled": true,
    "tags": []
   },
   "outputs": [
    {
     "data": {
      "text/plain": [
       "transaction_id      0\n",
       "cust_id             0\n",
       "tran_date           0\n",
       "prod_subcat_code    0\n",
       "prod_cat_code       0\n",
       "Qty                 0\n",
       "Rate                0\n",
       "Tax                 0\n",
       "total_amt           0\n",
       "Store_type          0\n",
       "prod_cat            0\n",
       "prod_subcat         0\n",
       "DOB                 0\n",
       "Gender              0\n",
       "city_code           0\n",
       "dtype: int64"
      ]
     },
     "execution_count": 13,
     "metadata": {},
     "output_type": "execute_result"
    }
   ],
   "source": [
    "final.dropna(how='any', axis=0, inplace=True)\n",
    "final.isnull().sum()"
   ]
  },
  {
   "cell_type": "markdown",
   "id": "991c4541",
   "metadata": {
    "papermill": {
     "duration": 0.061031,
     "end_time": "2022-01-30T09:05:05.214017",
     "exception": false,
     "start_time": "2022-01-30T09:05:05.152986",
     "status": "completed"
    },
    "tags": []
   },
   "source": [
    "**All null value entries were cleared.**"
   ]
  },
  {
   "cell_type": "markdown",
   "id": "b8b5e1e9",
   "metadata": {
    "papermill": {
     "duration": 0.061027,
     "end_time": "2022-01-30T09:05:05.335944",
     "exception": false,
     "start_time": "2022-01-30T09:05:05.274917",
     "status": "completed"
    },
    "tags": []
   },
   "source": [
    "**Transaction ID must be unique entry and the same attribute must be searched for any redundant entry of incorrect entry.**"
   ]
  },
  {
   "cell_type": "code",
   "execution_count": 14,
   "id": "9b72096f",
   "metadata": {
    "execution": {
     "iopub.execute_input": "2022-01-30T09:05:05.462658Z",
     "iopub.status.busy": "2022-01-30T09:05:05.460241Z",
     "iopub.status.idle": "2022-01-30T09:05:05.469196Z",
     "shell.execute_reply": "2022-01-30T09:05:05.468693Z",
     "shell.execute_reply.started": "2022-01-30T08:59:11.626106Z"
    },
    "papermill": {
     "duration": 0.072802,
     "end_time": "2022-01-30T09:05:05.469345",
     "exception": false,
     "start_time": "2022-01-30T09:05:05.396543",
     "status": "completed"
    },
    "tags": []
   },
   "outputs": [
    {
     "name": "stdout",
     "output_type": "stream",
     "text": [
      "Total duplicate transaction entries: 2174\n"
     ]
    }
   ],
   "source": [
    "# checking for duplicate transaction id's for redundant data entry\n",
    "\n",
    "print(f\"Total duplicate transaction entries: {final.duplicated(subset=['transaction_id']).sum()}\")"
   ]
  },
  {
   "cell_type": "code",
   "execution_count": 15,
   "id": "3de4ab64",
   "metadata": {
    "execution": {
     "iopub.execute_input": "2022-01-30T09:05:05.596010Z",
     "iopub.status.busy": "2022-01-30T09:05:05.595020Z",
     "iopub.status.idle": "2022-01-30T09:05:05.608529Z",
     "shell.execute_reply": "2022-01-30T09:05:05.607895Z",
     "shell.execute_reply.started": "2022-01-30T08:59:11.637952Z"
    },
    "papermill": {
     "duration": 0.078167,
     "end_time": "2022-01-30T09:05:05.608664",
     "exception": false,
     "start_time": "2022-01-30T09:05:05.530497",
     "status": "completed"
    },
    "tags": []
   },
   "outputs": [
    {
     "name": "stdout",
     "output_type": "stream",
     "text": [
      "Total duplicate transaction entries after cleaning: 0\n"
     ]
    }
   ],
   "source": [
    "# deleting the duplicated entries from the dataset\n",
    "\n",
    "final.drop_duplicates(subset=['transaction_id'], inplace=True)\n",
    "print(f\"Total duplicate transaction entries after cleaning: {final.duplicated(subset=['transaction_id']).sum()}\")"
   ]
  },
  {
   "cell_type": "code",
   "execution_count": 16,
   "id": "92177ec6",
   "metadata": {
    "execution": {
     "iopub.execute_input": "2022-01-30T09:05:05.735495Z",
     "iopub.status.busy": "2022-01-30T09:05:05.734864Z",
     "iopub.status.idle": "2022-01-30T09:05:05.827226Z",
     "shell.execute_reply": "2022-01-30T09:05:05.827717Z",
     "shell.execute_reply.started": "2022-01-30T08:59:11.657035Z"
    },
    "papermill": {
     "duration": 0.157726,
     "end_time": "2022-01-30T09:05:05.827939",
     "exception": false,
     "start_time": "2022-01-30T09:05:05.670213",
     "status": "completed"
    },
    "tags": []
   },
   "outputs": [
    {
     "data": {
      "text/html": [
       "<div>\n",
       "<style scoped>\n",
       "    .dataframe tbody tr th:only-of-type {\n",
       "        vertical-align: middle;\n",
       "    }\n",
       "\n",
       "    .dataframe tbody tr th {\n",
       "        vertical-align: top;\n",
       "    }\n",
       "\n",
       "    .dataframe thead th {\n",
       "        text-align: right;\n",
       "    }\n",
       "</style>\n",
       "<table border=\"1\" class=\"dataframe\">\n",
       "  <thead>\n",
       "    <tr style=\"text-align: right;\">\n",
       "      <th></th>\n",
       "      <th>transaction_id</th>\n",
       "      <th>cust_id</th>\n",
       "      <th>tran_date</th>\n",
       "      <th>prod_subcat_code</th>\n",
       "      <th>prod_cat_code</th>\n",
       "      <th>Qty</th>\n",
       "      <th>Rate</th>\n",
       "      <th>Tax</th>\n",
       "      <th>total_amt</th>\n",
       "      <th>Store_type</th>\n",
       "      <th>prod_cat</th>\n",
       "      <th>prod_subcat</th>\n",
       "      <th>DOB</th>\n",
       "      <th>Gender</th>\n",
       "      <th>city_code</th>\n",
       "    </tr>\n",
       "  </thead>\n",
       "  <tbody>\n",
       "    <tr>\n",
       "      <th>0</th>\n",
       "      <td>80712190438</td>\n",
       "      <td>270351</td>\n",
       "      <td>2014-02-28</td>\n",
       "      <td>1</td>\n",
       "      <td>1</td>\n",
       "      <td>-5</td>\n",
       "      <td>-772</td>\n",
       "      <td>405.300</td>\n",
       "      <td>-4265.300</td>\n",
       "      <td>e-Shop</td>\n",
       "      <td>Clothing</td>\n",
       "      <td>Women</td>\n",
       "      <td>1981-09-26</td>\n",
       "      <td>M</td>\n",
       "      <td>5.0</td>\n",
       "    </tr>\n",
       "    <tr>\n",
       "      <th>1</th>\n",
       "      <td>29258453508</td>\n",
       "      <td>270384</td>\n",
       "      <td>2014-02-27</td>\n",
       "      <td>5</td>\n",
       "      <td>3</td>\n",
       "      <td>-5</td>\n",
       "      <td>-1497</td>\n",
       "      <td>785.925</td>\n",
       "      <td>-8270.925</td>\n",
       "      <td>e-Shop</td>\n",
       "      <td>Electronics</td>\n",
       "      <td>Computers</td>\n",
       "      <td>1973-11-05</td>\n",
       "      <td>F</td>\n",
       "      <td>8.0</td>\n",
       "    </tr>\n",
       "    <tr>\n",
       "      <th>2</th>\n",
       "      <td>51750724947</td>\n",
       "      <td>273420</td>\n",
       "      <td>2014-02-24</td>\n",
       "      <td>6</td>\n",
       "      <td>5</td>\n",
       "      <td>-2</td>\n",
       "      <td>-791</td>\n",
       "      <td>166.110</td>\n",
       "      <td>-1748.110</td>\n",
       "      <td>TeleShop</td>\n",
       "      <td>Books</td>\n",
       "      <td>DIY</td>\n",
       "      <td>1992-07-27</td>\n",
       "      <td>M</td>\n",
       "      <td>8.0</td>\n",
       "    </tr>\n",
       "    <tr>\n",
       "      <th>3</th>\n",
       "      <td>93274880719</td>\n",
       "      <td>271509</td>\n",
       "      <td>2014-02-24</td>\n",
       "      <td>11</td>\n",
       "      <td>6</td>\n",
       "      <td>-3</td>\n",
       "      <td>-1363</td>\n",
       "      <td>429.345</td>\n",
       "      <td>-4518.345</td>\n",
       "      <td>e-Shop</td>\n",
       "      <td>Home and kitchen</td>\n",
       "      <td>Bath</td>\n",
       "      <td>1981-08-06</td>\n",
       "      <td>M</td>\n",
       "      <td>3.0</td>\n",
       "    </tr>\n",
       "    <tr>\n",
       "      <th>5</th>\n",
       "      <td>97439039119</td>\n",
       "      <td>272357</td>\n",
       "      <td>2014-02-23</td>\n",
       "      <td>8</td>\n",
       "      <td>3</td>\n",
       "      <td>-2</td>\n",
       "      <td>-824</td>\n",
       "      <td>173.040</td>\n",
       "      <td>-1821.040</td>\n",
       "      <td>TeleShop</td>\n",
       "      <td>Electronics</td>\n",
       "      <td>Personal Appliances</td>\n",
       "      <td>1982-09-10</td>\n",
       "      <td>F</td>\n",
       "      <td>6.0</td>\n",
       "    </tr>\n",
       "  </tbody>\n",
       "</table>\n",
       "</div>"
      ],
      "text/plain": [
       "   transaction_id  cust_id  tran_date  prod_subcat_code  prod_cat_code  Qty  \\\n",
       "0     80712190438   270351 2014-02-28                 1              1   -5   \n",
       "1     29258453508   270384 2014-02-27                 5              3   -5   \n",
       "2     51750724947   273420 2014-02-24                 6              5   -2   \n",
       "3     93274880719   271509 2014-02-24                11              6   -3   \n",
       "5     97439039119   272357 2014-02-23                 8              3   -2   \n",
       "\n",
       "   Rate      Tax  total_amt Store_type          prod_cat          prod_subcat  \\\n",
       "0  -772  405.300  -4265.300     e-Shop          Clothing                Women   \n",
       "1 -1497  785.925  -8270.925     e-Shop       Electronics            Computers   \n",
       "2  -791  166.110  -1748.110   TeleShop             Books                  DIY   \n",
       "3 -1363  429.345  -4518.345     e-Shop  Home and kitchen                 Bath   \n",
       "5  -824  173.040  -1821.040   TeleShop       Electronics  Personal Appliances   \n",
       "\n",
       "         DOB Gender  city_code  \n",
       "0 1981-09-26      M        5.0  \n",
       "1 1973-11-05      F        8.0  \n",
       "2 1992-07-27      M        8.0  \n",
       "3 1981-08-06      M        3.0  \n",
       "5 1982-09-10      F        6.0  "
      ]
     },
     "execution_count": 16,
     "metadata": {},
     "output_type": "execute_result"
    }
   ],
   "source": [
    "# Transaction date attribute & DOB is of object datatype and must be converted to DateTime formate\n",
    "\n",
    "final['tran_date'] = pd.to_datetime(final['tran_date'])\n",
    "final['DOB'] = pd.to_datetime(final['DOB'])\n",
    "final.head()"
   ]
  },
  {
   "cell_type": "markdown",
   "id": "f70a8a82",
   "metadata": {
    "papermill": {
     "duration": 0.062694,
     "end_time": "2022-01-30T09:05:05.954476",
     "exception": false,
     "start_time": "2022-01-30T09:05:05.891782",
     "status": "completed"
    },
    "tags": []
   },
   "source": [
    "**The dataset contains attributes like total amount, tax, quantity and rate of item purchased. These attributes must always have a positive float value and negative values are erroneous.**"
   ]
  },
  {
   "cell_type": "markdown",
   "id": "183846d8",
   "metadata": {
    "papermill": {
     "duration": 0.062276,
     "end_time": "2022-01-30T09:05:06.079418",
     "exception": false,
     "start_time": "2022-01-30T09:05:06.017142",
     "status": "completed"
    },
    "tags": []
   },
   "source": [
    "**All the instances with negative values for aforementioned attributes must be removed. Before that the count of th same is calculated below.**"
   ]
  },
  {
   "cell_type": "code",
   "execution_count": 17,
   "id": "e7e90f75",
   "metadata": {
    "execution": {
     "iopub.execute_input": "2022-01-30T09:05:06.209601Z",
     "iopub.status.busy": "2022-01-30T09:05:06.208678Z",
     "iopub.status.idle": "2022-01-30T09:05:06.274484Z",
     "shell.execute_reply": "2022-01-30T09:05:06.274950Z",
     "shell.execute_reply.started": "2022-01-30T08:59:11.752068Z"
    },
    "papermill": {
     "duration": 0.133713,
     "end_time": "2022-01-30T09:05:06.275119",
     "exception": false,
     "start_time": "2022-01-30T09:05:06.141406",
     "status": "completed"
    },
    "tags": []
   },
   "outputs": [
    {
     "data": {
      "text/plain": [
       "Qty          2058\n",
       "Rate         2058\n",
       "total_amt    2058\n",
       "dtype: int64"
      ]
     },
     "execution_count": 17,
     "metadata": {},
     "output_type": "execute_result"
    }
   ],
   "source": [
    "final.where(final[['Qty','Rate','total_amt']] < 0)[['Qty','Rate','total_amt']].count()"
   ]
  },
  {
   "cell_type": "markdown",
   "id": "bd3d834c",
   "metadata": {
    "papermill": {
     "duration": 0.062281,
     "end_time": "2022-01-30T09:05:06.400544",
     "exception": false,
     "start_time": "2022-01-30T09:05:06.338263",
     "status": "completed"
    },
    "tags": []
   },
   "source": [
    "**Retriving Year and Month data from the transaction date and adding those attributes to the dataset.**"
   ]
  },
  {
   "cell_type": "code",
   "execution_count": 18,
   "id": "64eabe76",
   "metadata": {
    "execution": {
     "iopub.execute_input": "2022-01-30T09:05:06.528477Z",
     "iopub.status.busy": "2022-01-30T09:05:06.527858Z",
     "iopub.status.idle": "2022-01-30T09:05:06.938167Z",
     "shell.execute_reply": "2022-01-30T09:05:06.938704Z",
     "shell.execute_reply.started": "2022-01-30T08:59:11.827456Z"
    },
    "papermill": {
     "duration": 0.475814,
     "end_time": "2022-01-30T09:05:06.938898",
     "exception": false,
     "start_time": "2022-01-30T09:05:06.463084",
     "status": "completed"
    },
    "tags": []
   },
   "outputs": [],
   "source": [
    "final['Month'] = final['tran_date'].apply(lambda x: x.month_name())\n",
    "final['Year'] = final['tran_date'].apply(lambda x: x.year)"
   ]
  },
  {
   "cell_type": "markdown",
   "id": "b24bf0e8",
   "metadata": {
    "papermill": {
     "duration": 0.063168,
     "end_time": "2022-01-30T09:05:07.065543",
     "exception": false,
     "start_time": "2022-01-30T09:05:07.002375",
     "status": "completed"
    },
    "tags": []
   },
   "source": [
    "**Calculating age of each customer from the DOB attribute.**"
   ]
  },
  {
   "cell_type": "code",
   "execution_count": 19,
   "id": "e2c29620",
   "metadata": {
    "execution": {
     "iopub.execute_input": "2022-01-30T09:05:07.194402Z",
     "iopub.status.busy": "2022-01-30T09:05:07.193719Z",
     "iopub.status.idle": "2022-01-30T09:05:07.736564Z",
     "shell.execute_reply": "2022-01-30T09:05:07.737161Z",
     "shell.execute_reply.started": "2022-01-30T08:59:12.238013Z"
    },
    "papermill": {
     "duration": 0.609051,
     "end_time": "2022-01-30T09:05:07.737345",
     "exception": false,
     "start_time": "2022-01-30T09:05:07.128294",
     "status": "completed"
    },
    "tags": []
   },
   "outputs": [],
   "source": [
    "# defining a funciton to calculate age from DOB\n",
    "def age(x):\n",
    "    return (round((dt.datetime.now()-x).total_seconds()/31536000,1))\n",
    "    \n",
    "final['Age'] = final['DOB'].apply(lambda x: age(x))"
   ]
  },
  {
   "cell_type": "markdown",
   "id": "56128524",
   "metadata": {
    "papermill": {
     "duration": 0.063374,
     "end_time": "2022-01-30T09:05:07.863761",
     "exception": false,
     "start_time": "2022-01-30T09:05:07.800387",
     "status": "completed"
    },
    "tags": []
   },
   "source": [
    "**Deleting the negative instances**"
   ]
  },
  {
   "cell_type": "code",
   "execution_count": 20,
   "id": "5f2ac67f",
   "metadata": {
    "execution": {
     "iopub.execute_input": "2022-01-30T09:05:07.995815Z",
     "iopub.status.busy": "2022-01-30T09:05:07.995123Z",
     "iopub.status.idle": "2022-01-30T09:05:08.110915Z",
     "shell.execute_reply": "2022-01-30T09:05:08.110346Z",
     "shell.execute_reply.started": "2022-01-30T08:59:12.805187Z"
    },
    "papermill": {
     "duration": 0.182597,
     "end_time": "2022-01-30T09:05:08.111065",
     "exception": false,
     "start_time": "2022-01-30T09:05:07.928468",
     "status": "completed"
    },
    "tags": []
   },
   "outputs": [
    {
     "name": "stdout",
     "output_type": "stream",
     "text": [
      "transaction_id               int64\n",
      "cust_id                      int64\n",
      "tran_date           datetime64[ns]\n",
      "prod_subcat_code             int64\n",
      "prod_cat_code                int64\n",
      "Qty                          int64\n",
      "Rate                         int64\n",
      "Tax                        float64\n",
      "total_amt                  float64\n",
      "Store_type                  object\n",
      "prod_cat                    object\n",
      "prod_subcat                 object\n",
      "DOB                 datetime64[ns]\n",
      "Gender                      object\n",
      "city_code                  float64\n",
      "Month                       object\n",
      "Year                         int64\n",
      "Age                        float64\n",
      "dtype: object\n"
     ]
    },
    {
     "data": {
      "text/html": [
       "<div>\n",
       "<style scoped>\n",
       "    .dataframe tbody tr th:only-of-type {\n",
       "        vertical-align: middle;\n",
       "    }\n",
       "\n",
       "    .dataframe tbody tr th {\n",
       "        vertical-align: top;\n",
       "    }\n",
       "\n",
       "    .dataframe thead th {\n",
       "        text-align: right;\n",
       "    }\n",
       "</style>\n",
       "<table border=\"1\" class=\"dataframe\">\n",
       "  <thead>\n",
       "    <tr style=\"text-align: right;\">\n",
       "      <th></th>\n",
       "      <th>transaction_id</th>\n",
       "      <th>cust_id</th>\n",
       "      <th>tran_date</th>\n",
       "      <th>prod_subcat_code</th>\n",
       "      <th>prod_cat_code</th>\n",
       "      <th>Qty</th>\n",
       "      <th>Rate</th>\n",
       "      <th>Tax</th>\n",
       "      <th>total_amt</th>\n",
       "      <th>Store_type</th>\n",
       "      <th>prod_cat</th>\n",
       "      <th>prod_subcat</th>\n",
       "      <th>DOB</th>\n",
       "      <th>Gender</th>\n",
       "      <th>city_code</th>\n",
       "      <th>Month</th>\n",
       "      <th>Year</th>\n",
       "      <th>Age</th>\n",
       "    </tr>\n",
       "  </thead>\n",
       "  <tbody>\n",
       "    <tr>\n",
       "      <th>0</th>\n",
       "      <td>25455265351</td>\n",
       "      <td>267750</td>\n",
       "      <td>2014-02-20</td>\n",
       "      <td>12</td>\n",
       "      <td>6</td>\n",
       "      <td>3</td>\n",
       "      <td>1360</td>\n",
       "      <td>428.400</td>\n",
       "      <td>4508.400</td>\n",
       "      <td>e-Shop</td>\n",
       "      <td>Home and kitchen</td>\n",
       "      <td>Tools</td>\n",
       "      <td>1986-10-13</td>\n",
       "      <td>M</td>\n",
       "      <td>1.0</td>\n",
       "      <td>February</td>\n",
       "      <td>2014</td>\n",
       "      <td>35.3</td>\n",
       "    </tr>\n",
       "    <tr>\n",
       "      <th>1</th>\n",
       "      <td>1571002198</td>\n",
       "      <td>275023</td>\n",
       "      <td>2014-02-20</td>\n",
       "      <td>6</td>\n",
       "      <td>5</td>\n",
       "      <td>4</td>\n",
       "      <td>587</td>\n",
       "      <td>246.540</td>\n",
       "      <td>2594.540</td>\n",
       "      <td>e-Shop</td>\n",
       "      <td>Books</td>\n",
       "      <td>DIY</td>\n",
       "      <td>1971-09-03</td>\n",
       "      <td>M</td>\n",
       "      <td>6.0</td>\n",
       "      <td>February</td>\n",
       "      <td>2014</td>\n",
       "      <td>50.4</td>\n",
       "    </tr>\n",
       "    <tr>\n",
       "      <th>2</th>\n",
       "      <td>36554696014</td>\n",
       "      <td>269345</td>\n",
       "      <td>2014-02-20</td>\n",
       "      <td>3</td>\n",
       "      <td>5</td>\n",
       "      <td>3</td>\n",
       "      <td>1253</td>\n",
       "      <td>394.695</td>\n",
       "      <td>4153.695</td>\n",
       "      <td>e-Shop</td>\n",
       "      <td>Books</td>\n",
       "      <td>Comics</td>\n",
       "      <td>1970-06-26</td>\n",
       "      <td>F</td>\n",
       "      <td>10.0</td>\n",
       "      <td>February</td>\n",
       "      <td>2014</td>\n",
       "      <td>51.6</td>\n",
       "    </tr>\n",
       "    <tr>\n",
       "      <th>3</th>\n",
       "      <td>56814940239</td>\n",
       "      <td>268799</td>\n",
       "      <td>2014-02-20</td>\n",
       "      <td>7</td>\n",
       "      <td>5</td>\n",
       "      <td>5</td>\n",
       "      <td>368</td>\n",
       "      <td>193.200</td>\n",
       "      <td>2033.200</td>\n",
       "      <td>e-Shop</td>\n",
       "      <td>Books</td>\n",
       "      <td>Fiction</td>\n",
       "      <td>1979-06-27</td>\n",
       "      <td>M</td>\n",
       "      <td>9.0</td>\n",
       "      <td>February</td>\n",
       "      <td>2014</td>\n",
       "      <td>42.6</td>\n",
       "    </tr>\n",
       "    <tr>\n",
       "      <th>4</th>\n",
       "      <td>54295803788</td>\n",
       "      <td>270787</td>\n",
       "      <td>2014-02-20</td>\n",
       "      <td>12</td>\n",
       "      <td>5</td>\n",
       "      <td>5</td>\n",
       "      <td>584</td>\n",
       "      <td>306.600</td>\n",
       "      <td>3226.600</td>\n",
       "      <td>e-Shop</td>\n",
       "      <td>Books</td>\n",
       "      <td>Academic</td>\n",
       "      <td>1973-10-09</td>\n",
       "      <td>F</td>\n",
       "      <td>6.0</td>\n",
       "      <td>February</td>\n",
       "      <td>2014</td>\n",
       "      <td>48.3</td>\n",
       "    </tr>\n",
       "    <tr>\n",
       "      <th>5</th>\n",
       "      <td>25963520987</td>\n",
       "      <td>274829</td>\n",
       "      <td>2014-02-20</td>\n",
       "      <td>4</td>\n",
       "      <td>4</td>\n",
       "      <td>3</td>\n",
       "      <td>502</td>\n",
       "      <td>158.130</td>\n",
       "      <td>1664.130</td>\n",
       "      <td>Flagship store</td>\n",
       "      <td>Bags</td>\n",
       "      <td>Women</td>\n",
       "      <td>1984-05-09</td>\n",
       "      <td>F</td>\n",
       "      <td>2.0</td>\n",
       "      <td>February</td>\n",
       "      <td>2014</td>\n",
       "      <td>37.8</td>\n",
       "    </tr>\n",
       "    <tr>\n",
       "      <th>6</th>\n",
       "      <td>17183929085</td>\n",
       "      <td>266863</td>\n",
       "      <td>2014-02-20</td>\n",
       "      <td>1</td>\n",
       "      <td>2</td>\n",
       "      <td>1</td>\n",
       "      <td>1359</td>\n",
       "      <td>142.695</td>\n",
       "      <td>1501.695</td>\n",
       "      <td>TeleShop</td>\n",
       "      <td>Footwear</td>\n",
       "      <td>Mens</td>\n",
       "      <td>1972-11-17</td>\n",
       "      <td>M</td>\n",
       "      <td>6.0</td>\n",
       "      <td>February</td>\n",
       "      <td>2014</td>\n",
       "      <td>49.2</td>\n",
       "    </tr>\n",
       "    <tr>\n",
       "      <th>7</th>\n",
       "      <td>44783317894</td>\n",
       "      <td>269452</td>\n",
       "      <td>2014-02-20</td>\n",
       "      <td>3</td>\n",
       "      <td>1</td>\n",
       "      <td>3</td>\n",
       "      <td>825</td>\n",
       "      <td>259.875</td>\n",
       "      <td>2734.875</td>\n",
       "      <td>TeleShop</td>\n",
       "      <td>Clothing</td>\n",
       "      <td>Kids</td>\n",
       "      <td>1979-09-18</td>\n",
       "      <td>F</td>\n",
       "      <td>2.0</td>\n",
       "      <td>February</td>\n",
       "      <td>2014</td>\n",
       "      <td>42.4</td>\n",
       "    </tr>\n",
       "    <tr>\n",
       "      <th>8</th>\n",
       "      <td>58957828601</td>\n",
       "      <td>269009</td>\n",
       "      <td>2014-02-20</td>\n",
       "      <td>11</td>\n",
       "      <td>5</td>\n",
       "      <td>4</td>\n",
       "      <td>846</td>\n",
       "      <td>355.320</td>\n",
       "      <td>3739.320</td>\n",
       "      <td>TeleShop</td>\n",
       "      <td>Books</td>\n",
       "      <td>Children</td>\n",
       "      <td>1977-12-07</td>\n",
       "      <td>M</td>\n",
       "      <td>2.0</td>\n",
       "      <td>February</td>\n",
       "      <td>2014</td>\n",
       "      <td>44.2</td>\n",
       "    </tr>\n",
       "    <tr>\n",
       "      <th>9</th>\n",
       "      <td>9647515879</td>\n",
       "      <td>268934</td>\n",
       "      <td>2014-02-20</td>\n",
       "      <td>7</td>\n",
       "      <td>5</td>\n",
       "      <td>3</td>\n",
       "      <td>1384</td>\n",
       "      <td>435.960</td>\n",
       "      <td>4587.960</td>\n",
       "      <td>TeleShop</td>\n",
       "      <td>Books</td>\n",
       "      <td>Fiction</td>\n",
       "      <td>1980-07-18</td>\n",
       "      <td>F</td>\n",
       "      <td>7.0</td>\n",
       "      <td>February</td>\n",
       "      <td>2014</td>\n",
       "      <td>41.6</td>\n",
       "    </tr>\n",
       "  </tbody>\n",
       "</table>\n",
       "</div>"
      ],
      "text/plain": [
       "   transaction_id  cust_id  tran_date  prod_subcat_code  prod_cat_code  Qty  \\\n",
       "0     25455265351   267750 2014-02-20                12              6    3   \n",
       "1      1571002198   275023 2014-02-20                 6              5    4   \n",
       "2     36554696014   269345 2014-02-20                 3              5    3   \n",
       "3     56814940239   268799 2014-02-20                 7              5    5   \n",
       "4     54295803788   270787 2014-02-20                12              5    5   \n",
       "5     25963520987   274829 2014-02-20                 4              4    3   \n",
       "6     17183929085   266863 2014-02-20                 1              2    1   \n",
       "7     44783317894   269452 2014-02-20                 3              1    3   \n",
       "8     58957828601   269009 2014-02-20                11              5    4   \n",
       "9      9647515879   268934 2014-02-20                 7              5    3   \n",
       "\n",
       "   Rate      Tax  total_amt      Store_type          prod_cat prod_subcat  \\\n",
       "0  1360  428.400   4508.400          e-Shop  Home and kitchen       Tools   \n",
       "1   587  246.540   2594.540          e-Shop             Books         DIY   \n",
       "2  1253  394.695   4153.695          e-Shop             Books      Comics   \n",
       "3   368  193.200   2033.200          e-Shop             Books     Fiction   \n",
       "4   584  306.600   3226.600          e-Shop             Books    Academic   \n",
       "5   502  158.130   1664.130  Flagship store              Bags       Women   \n",
       "6  1359  142.695   1501.695        TeleShop          Footwear        Mens   \n",
       "7   825  259.875   2734.875        TeleShop          Clothing        Kids   \n",
       "8   846  355.320   3739.320        TeleShop             Books    Children   \n",
       "9  1384  435.960   4587.960        TeleShop             Books     Fiction   \n",
       "\n",
       "         DOB Gender  city_code     Month  Year   Age  \n",
       "0 1986-10-13      M        1.0  February  2014  35.3  \n",
       "1 1971-09-03      M        6.0  February  2014  50.4  \n",
       "2 1970-06-26      F       10.0  February  2014  51.6  \n",
       "3 1979-06-27      M        9.0  February  2014  42.6  \n",
       "4 1973-10-09      F        6.0  February  2014  48.3  \n",
       "5 1984-05-09      F        2.0  February  2014  37.8  \n",
       "6 1972-11-17      M        6.0  February  2014  49.2  \n",
       "7 1979-09-18      F        2.0  February  2014  42.4  \n",
       "8 1977-12-07      M        2.0  February  2014  44.2  \n",
       "9 1980-07-18      F        7.0  February  2014  41.6  "
      ]
     },
     "execution_count": 20,
     "metadata": {},
     "output_type": "execute_result"
    }
   ],
   "source": [
    "final.drop(final[final[['Qty','Rate','total_amt']] < 0].dropna(axis=0, how='all').index, axis=0, inplace=True)\n",
    "final.reset_index(drop=True, inplace=True)\n",
    "print(final.dtypes)\n",
    "final.head(n=10)"
   ]
  },
  {
   "cell_type": "markdown",
   "id": "8307c833",
   "metadata": {
    "papermill": {
     "duration": 0.064693,
     "end_time": "2022-01-30T09:05:08.240164",
     "exception": false,
     "start_time": "2022-01-30T09:05:08.175471",
     "status": "completed"
    },
    "tags": []
   },
   "source": [
    "## Data Analysis (ANALYZE):"
   ]
  },
  {
   "cell_type": "markdown",
   "id": "11619a6b",
   "metadata": {
    "papermill": {
     "duration": 0.063308,
     "end_time": "2022-01-30T09:05:08.367604",
     "exception": false,
     "start_time": "2022-01-30T09:05:08.304296",
     "status": "completed"
    },
    "tags": []
   },
   "source": [
    "**Getting statistical information on the dataset**"
   ]
  },
  {
   "cell_type": "code",
   "execution_count": 21,
   "id": "2d28b649",
   "metadata": {
    "execution": {
     "iopub.execute_input": "2022-01-30T09:05:08.500786Z",
     "iopub.status.busy": "2022-01-30T09:05:08.500126Z",
     "iopub.status.idle": "2022-01-30T09:05:08.523216Z",
     "shell.execute_reply": "2022-01-30T09:05:08.523716Z",
     "shell.execute_reply.started": "2022-01-30T08:59:12.928435Z"
    },
    "papermill": {
     "duration": 0.092407,
     "end_time": "2022-01-30T09:05:08.523912",
     "exception": false,
     "start_time": "2022-01-30T09:05:08.431505",
     "status": "completed"
    },
    "tags": []
   },
   "outputs": [
    {
     "data": {
      "text/html": [
       "<div>\n",
       "<style scoped>\n",
       "    .dataframe tbody tr th:only-of-type {\n",
       "        vertical-align: middle;\n",
       "    }\n",
       "\n",
       "    .dataframe tbody tr th {\n",
       "        vertical-align: top;\n",
       "    }\n",
       "\n",
       "    .dataframe thead th {\n",
       "        text-align: right;\n",
       "    }\n",
       "</style>\n",
       "<table border=\"1\" class=\"dataframe\">\n",
       "  <thead>\n",
       "    <tr style=\"text-align: right;\">\n",
       "      <th></th>\n",
       "      <th>Qty</th>\n",
       "      <th>Rate</th>\n",
       "      <th>Tax</th>\n",
       "      <th>total_amt</th>\n",
       "    </tr>\n",
       "  </thead>\n",
       "  <tbody>\n",
       "    <tr>\n",
       "      <th>count</th>\n",
       "      <td>18804.000000</td>\n",
       "      <td>18804.000000</td>\n",
       "      <td>18804.000000</td>\n",
       "      <td>18804.000000</td>\n",
       "    </tr>\n",
       "    <tr>\n",
       "      <th>mean</th>\n",
       "      <td>2.999096</td>\n",
       "      <td>784.723197</td>\n",
       "      <td>246.944734</td>\n",
       "      <td>2598.799339</td>\n",
       "    </tr>\n",
       "    <tr>\n",
       "      <th>std</th>\n",
       "      <td>1.420386</td>\n",
       "      <td>415.484411</td>\n",
       "      <td>186.091706</td>\n",
       "      <td>1958.393665</td>\n",
       "    </tr>\n",
       "    <tr>\n",
       "      <th>min</th>\n",
       "      <td>1.000000</td>\n",
       "      <td>70.000000</td>\n",
       "      <td>7.350000</td>\n",
       "      <td>77.350000</td>\n",
       "    </tr>\n",
       "    <tr>\n",
       "      <th>25%</th>\n",
       "      <td>2.000000</td>\n",
       "      <td>426.000000</td>\n",
       "      <td>97.440000</td>\n",
       "      <td>1025.440000</td>\n",
       "    </tr>\n",
       "    <tr>\n",
       "      <th>50%</th>\n",
       "      <td>3.000000</td>\n",
       "      <td>785.500000</td>\n",
       "      <td>197.610000</td>\n",
       "      <td>2079.610000</td>\n",
       "    </tr>\n",
       "    <tr>\n",
       "      <th>75%</th>\n",
       "      <td>4.000000</td>\n",
       "      <td>1147.000000</td>\n",
       "      <td>361.620000</td>\n",
       "      <td>3805.620000</td>\n",
       "    </tr>\n",
       "    <tr>\n",
       "      <th>max</th>\n",
       "      <td>5.000000</td>\n",
       "      <td>1500.000000</td>\n",
       "      <td>787.500000</td>\n",
       "      <td>8287.500000</td>\n",
       "    </tr>\n",
       "  </tbody>\n",
       "</table>\n",
       "</div>"
      ],
      "text/plain": [
       "                Qty          Rate           Tax     total_amt\n",
       "count  18804.000000  18804.000000  18804.000000  18804.000000\n",
       "mean       2.999096    784.723197    246.944734   2598.799339\n",
       "std        1.420386    415.484411    186.091706   1958.393665\n",
       "min        1.000000     70.000000      7.350000     77.350000\n",
       "25%        2.000000    426.000000     97.440000   1025.440000\n",
       "50%        3.000000    785.500000    197.610000   2079.610000\n",
       "75%        4.000000   1147.000000    361.620000   3805.620000\n",
       "max        5.000000   1500.000000    787.500000   8287.500000"
      ]
     },
     "execution_count": 21,
     "metadata": {},
     "output_type": "execute_result"
    }
   ],
   "source": [
    "final[['Qty','Rate','Tax','total_amt']].describe()"
   ]
  },
  {
   "cell_type": "markdown",
   "id": "13de8bc6",
   "metadata": {
    "papermill": {
     "duration": 0.064069,
     "end_time": "2022-01-30T09:05:08.652531",
     "exception": false,
     "start_time": "2022-01-30T09:05:08.588462",
     "status": "completed"
    },
    "tags": []
   },
   "source": [
    "**Finding out the time span of the data.**"
   ]
  },
  {
   "cell_type": "code",
   "execution_count": 22,
   "id": "050eba65",
   "metadata": {
    "execution": {
     "iopub.execute_input": "2022-01-30T09:05:08.785948Z",
     "iopub.status.busy": "2022-01-30T09:05:08.784928Z",
     "iopub.status.idle": "2022-01-30T09:05:08.792639Z",
     "shell.execute_reply": "2022-01-30T09:05:08.792112Z",
     "shell.execute_reply.started": "2022-01-30T08:59:12.957937Z"
    },
    "papermill": {
     "duration": 0.075903,
     "end_time": "2022-01-30T09:05:08.792775",
     "exception": false,
     "start_time": "2022-01-30T09:05:08.716872",
     "status": "completed"
    },
    "tags": []
   },
   "outputs": [
    {
     "name": "stdout",
     "output_type": "stream",
     "text": [
      "The data spreads over a span of 1122 days or 3.07 years\n"
     ]
    }
   ],
   "source": [
    "days = final['tran_date'][0] - final['tran_date'][-1:]\n",
    "days= int(days.to_string(index=False)[:-4])\n",
    "print(f\"The data spreads over a span of {days} days or {round(days/365 , 2)} years\")"
   ]
  },
  {
   "cell_type": "markdown",
   "id": "4e427eeb",
   "metadata": {
    "papermill": {
     "duration": 0.069109,
     "end_time": "2022-01-30T09:05:08.926547",
     "exception": false,
     "start_time": "2022-01-30T09:05:08.857438",
     "status": "completed"
    },
    "tags": []
   },
   "source": [
    "**Total revenue from the retail outlet for the above time span is calculated below.**"
   ]
  },
  {
   "cell_type": "code",
   "execution_count": 23,
   "id": "b87f9d2d",
   "metadata": {
    "execution": {
     "iopub.execute_input": "2022-01-30T09:05:09.064233Z",
     "iopub.status.busy": "2022-01-30T09:05:09.063256Z",
     "iopub.status.idle": "2022-01-30T09:05:09.069247Z",
     "shell.execute_reply": "2022-01-30T09:05:09.069755Z",
     "shell.execute_reply.started": "2022-01-30T08:59:12.965842Z"
    },
    "papermill": {
     "duration": 0.076352,
     "end_time": "2022-01-30T09:05:09.069948",
     "exception": false,
     "start_time": "2022-01-30T09:05:08.993596",
     "status": "completed"
    },
    "tags": []
   },
   "outputs": [
    {
     "name": "stdout",
     "output_type": "stream",
     "text": [
      "Total revenue from the retail outlet is Rs.48867822.77\n"
     ]
    }
   ],
   "source": [
    "total_revenue = final['total_amt'].sum()\n",
    "print(f\"Total revenue from the retail outlet is Rs.{round(total_revenue, 4)}\")"
   ]
  },
  {
   "cell_type": "markdown",
   "id": "1c4608e5",
   "metadata": {
    "papermill": {
     "duration": 0.065118,
     "end_time": "2022-01-30T09:05:09.201331",
     "exception": false,
     "start_time": "2022-01-30T09:05:09.136213",
     "status": "completed"
    },
    "tags": []
   },
   "source": [
    "**Total No. of customers made purchase from this retail chain.**"
   ]
  },
  {
   "cell_type": "code",
   "execution_count": 24,
   "id": "0cd2809b",
   "metadata": {
    "execution": {
     "iopub.execute_input": "2022-01-30T09:05:09.337889Z",
     "iopub.status.busy": "2022-01-30T09:05:09.337180Z",
     "iopub.status.idle": "2022-01-30T09:05:09.341914Z",
     "shell.execute_reply": "2022-01-30T09:05:09.341371Z",
     "shell.execute_reply.started": "2022-01-30T08:59:12.984530Z"
    },
    "papermill": {
     "duration": 0.074595,
     "end_time": "2022-01-30T09:05:09.342071",
     "exception": false,
     "start_time": "2022-01-30T09:05:09.267476",
     "status": "completed"
    },
    "tags": []
   },
   "outputs": [
    {
     "name": "stdout",
     "output_type": "stream",
     "text": [
      "Total No. of customers purchased from this retail business is: 5440\n"
     ]
    }
   ],
   "source": [
    "total_cust = len(final['cust_id'].unique())\n",
    "print(f\"Total No. of customers purchased from this retail business is: {total_cust}\")"
   ]
  },
  {
   "cell_type": "markdown",
   "id": "868d3533",
   "metadata": {
    "papermill": {
     "duration": 0.064718,
     "end_time": "2022-01-30T09:05:09.472348",
     "exception": false,
     "start_time": "2022-01-30T09:05:09.407630",
     "status": "completed"
    },
    "tags": []
   },
   "source": [
    "**Product category & sub-category-wise sales are calculated to identify the category wise contribution to total sales and revenue.**"
   ]
  },
  {
   "cell_type": "code",
   "execution_count": 25,
   "id": "9862c313",
   "metadata": {
    "execution": {
     "iopub.execute_input": "2022-01-30T09:05:09.606212Z",
     "iopub.status.busy": "2022-01-30T09:05:09.605566Z",
     "iopub.status.idle": "2022-01-30T09:05:09.619707Z",
     "shell.execute_reply": "2022-01-30T09:05:09.620439Z",
     "shell.execute_reply.started": "2022-01-30T08:59:12.997826Z"
    },
    "papermill": {
     "duration": 0.083223,
     "end_time": "2022-01-30T09:05:09.620621",
     "exception": false,
     "start_time": "2022-01-30T09:05:09.537398",
     "status": "completed"
    },
    "tags": []
   },
   "outputs": [
    {
     "data": {
      "text/html": [
       "<div>\n",
       "<style scoped>\n",
       "    .dataframe tbody tr th:only-of-type {\n",
       "        vertical-align: middle;\n",
       "    }\n",
       "\n",
       "    .dataframe tbody tr th {\n",
       "        vertical-align: top;\n",
       "    }\n",
       "\n",
       "    .dataframe thead th {\n",
       "        text-align: right;\n",
       "    }\n",
       "</style>\n",
       "<table border=\"1\" class=\"dataframe\">\n",
       "  <thead>\n",
       "    <tr style=\"text-align: right;\">\n",
       "      <th></th>\n",
       "      <th>Product Category</th>\n",
       "      <th>No. of Sales</th>\n",
       "    </tr>\n",
       "  </thead>\n",
       "  <tbody>\n",
       "    <tr>\n",
       "      <th>0</th>\n",
       "      <td>Bags</td>\n",
       "      <td>1592</td>\n",
       "    </tr>\n",
       "    <tr>\n",
       "      <th>1</th>\n",
       "      <td>Books</td>\n",
       "      <td>4928</td>\n",
       "    </tr>\n",
       "    <tr>\n",
       "      <th>2</th>\n",
       "      <td>Clothing</td>\n",
       "      <td>2405</td>\n",
       "    </tr>\n",
       "    <tr>\n",
       "      <th>3</th>\n",
       "      <td>Electronics</td>\n",
       "      <td>4089</td>\n",
       "    </tr>\n",
       "    <tr>\n",
       "      <th>4</th>\n",
       "      <td>Footwear</td>\n",
       "      <td>2435</td>\n",
       "    </tr>\n",
       "    <tr>\n",
       "      <th>5</th>\n",
       "      <td>Home and kitchen</td>\n",
       "      <td>3355</td>\n",
       "    </tr>\n",
       "  </tbody>\n",
       "</table>\n",
       "</div>"
      ],
      "text/plain": [
       "   Product Category  No. of Sales\n",
       "0              Bags          1592\n",
       "1             Books          4928\n",
       "2          Clothing          2405\n",
       "3       Electronics          4089\n",
       "4          Footwear          2435\n",
       "5  Home and kitchen          3355"
      ]
     },
     "execution_count": 25,
     "metadata": {},
     "output_type": "execute_result"
    }
   ],
   "source": [
    "category_sales = final.groupby(['prod_cat'],as_index=False)['transaction_id'].count()\n",
    "category_sales.rename(columns = {'prod_cat':'Product Category','transaction_id':'No. of Sales'}, inplace=True)\n",
    "category_sales"
   ]
  },
  {
   "cell_type": "code",
   "execution_count": 26,
   "id": "c29c880b",
   "metadata": {
    "execution": {
     "iopub.execute_input": "2022-01-30T09:05:09.756036Z",
     "iopub.status.busy": "2022-01-30T09:05:09.755400Z",
     "iopub.status.idle": "2022-01-30T09:05:09.774985Z",
     "shell.execute_reply": "2022-01-30T09:05:09.775479Z",
     "shell.execute_reply.started": "2022-01-30T08:59:13.019519Z"
    },
    "papermill": {
     "duration": 0.088401,
     "end_time": "2022-01-30T09:05:09.775646",
     "exception": false,
     "start_time": "2022-01-30T09:05:09.687245",
     "status": "completed"
    },
    "tags": []
   },
   "outputs": [
    {
     "data": {
      "text/html": [
       "<div>\n",
       "<style scoped>\n",
       "    .dataframe tbody tr th:only-of-type {\n",
       "        vertical-align: middle;\n",
       "    }\n",
       "\n",
       "    .dataframe tbody tr th {\n",
       "        vertical-align: top;\n",
       "    }\n",
       "\n",
       "    .dataframe thead th {\n",
       "        text-align: right;\n",
       "    }\n",
       "</style>\n",
       "<table border=\"1\" class=\"dataframe\">\n",
       "  <thead>\n",
       "    <tr style=\"text-align: right;\">\n",
       "      <th></th>\n",
       "      <th>Product Category</th>\n",
       "      <th>Product Sub-Category</th>\n",
       "      <th>No. of Sales</th>\n",
       "    </tr>\n",
       "  </thead>\n",
       "  <tbody>\n",
       "    <tr>\n",
       "      <th>0</th>\n",
       "      <td>Bags</td>\n",
       "      <td>Mens</td>\n",
       "      <td>808</td>\n",
       "    </tr>\n",
       "    <tr>\n",
       "      <th>1</th>\n",
       "      <td>Bags</td>\n",
       "      <td>Women</td>\n",
       "      <td>784</td>\n",
       "    </tr>\n",
       "    <tr>\n",
       "      <th>2</th>\n",
       "      <td>Books</td>\n",
       "      <td>Academic</td>\n",
       "      <td>766</td>\n",
       "    </tr>\n",
       "    <tr>\n",
       "      <th>3</th>\n",
       "      <td>Books</td>\n",
       "      <td>Children</td>\n",
       "      <td>837</td>\n",
       "    </tr>\n",
       "    <tr>\n",
       "      <th>4</th>\n",
       "      <td>Books</td>\n",
       "      <td>Comics</td>\n",
       "      <td>834</td>\n",
       "    </tr>\n",
       "    <tr>\n",
       "      <th>5</th>\n",
       "      <td>Books</td>\n",
       "      <td>DIY</td>\n",
       "      <td>824</td>\n",
       "    </tr>\n",
       "    <tr>\n",
       "      <th>6</th>\n",
       "      <td>Books</td>\n",
       "      <td>Fiction</td>\n",
       "      <td>838</td>\n",
       "    </tr>\n",
       "    <tr>\n",
       "      <th>7</th>\n",
       "      <td>Books</td>\n",
       "      <td>Non-Fiction</td>\n",
       "      <td>829</td>\n",
       "    </tr>\n",
       "    <tr>\n",
       "      <th>8</th>\n",
       "      <td>Clothing</td>\n",
       "      <td>Kids</td>\n",
       "      <td>817</td>\n",
       "    </tr>\n",
       "    <tr>\n",
       "      <th>9</th>\n",
       "      <td>Clothing</td>\n",
       "      <td>Mens</td>\n",
       "      <td>785</td>\n",
       "    </tr>\n",
       "    <tr>\n",
       "      <th>10</th>\n",
       "      <td>Clothing</td>\n",
       "      <td>Women</td>\n",
       "      <td>803</td>\n",
       "    </tr>\n",
       "    <tr>\n",
       "      <th>11</th>\n",
       "      <td>Electronics</td>\n",
       "      <td>Audio and video</td>\n",
       "      <td>805</td>\n",
       "    </tr>\n",
       "    <tr>\n",
       "      <th>12</th>\n",
       "      <td>Electronics</td>\n",
       "      <td>Cameras</td>\n",
       "      <td>814</td>\n",
       "    </tr>\n",
       "    <tr>\n",
       "      <th>13</th>\n",
       "      <td>Electronics</td>\n",
       "      <td>Computers</td>\n",
       "      <td>794</td>\n",
       "    </tr>\n",
       "    <tr>\n",
       "      <th>14</th>\n",
       "      <td>Electronics</td>\n",
       "      <td>Mobiles</td>\n",
       "      <td>866</td>\n",
       "    </tr>\n",
       "    <tr>\n",
       "      <th>15</th>\n",
       "      <td>Electronics</td>\n",
       "      <td>Personal Appliances</td>\n",
       "      <td>810</td>\n",
       "    </tr>\n",
       "    <tr>\n",
       "      <th>16</th>\n",
       "      <td>Footwear</td>\n",
       "      <td>Kids</td>\n",
       "      <td>830</td>\n",
       "    </tr>\n",
       "    <tr>\n",
       "      <th>17</th>\n",
       "      <td>Footwear</td>\n",
       "      <td>Mens</td>\n",
       "      <td>761</td>\n",
       "    </tr>\n",
       "    <tr>\n",
       "      <th>18</th>\n",
       "      <td>Footwear</td>\n",
       "      <td>Women</td>\n",
       "      <td>844</td>\n",
       "    </tr>\n",
       "    <tr>\n",
       "      <th>19</th>\n",
       "      <td>Home and kitchen</td>\n",
       "      <td>Bath</td>\n",
       "      <td>827</td>\n",
       "    </tr>\n",
       "    <tr>\n",
       "      <th>20</th>\n",
       "      <td>Home and kitchen</td>\n",
       "      <td>Furnishing</td>\n",
       "      <td>811</td>\n",
       "    </tr>\n",
       "    <tr>\n",
       "      <th>21</th>\n",
       "      <td>Home and kitchen</td>\n",
       "      <td>Kitchen</td>\n",
       "      <td>829</td>\n",
       "    </tr>\n",
       "    <tr>\n",
       "      <th>22</th>\n",
       "      <td>Home and kitchen</td>\n",
       "      <td>Tools</td>\n",
       "      <td>888</td>\n",
       "    </tr>\n",
       "  </tbody>\n",
       "</table>\n",
       "</div>"
      ],
      "text/plain": [
       "    Product Category Product Sub-Category  No. of Sales\n",
       "0               Bags                 Mens           808\n",
       "1               Bags                Women           784\n",
       "2              Books             Academic           766\n",
       "3              Books             Children           837\n",
       "4              Books               Comics           834\n",
       "5              Books                  DIY           824\n",
       "6              Books              Fiction           838\n",
       "7              Books          Non-Fiction           829\n",
       "8           Clothing                 Kids           817\n",
       "9           Clothing                 Mens           785\n",
       "10          Clothing                Women           803\n",
       "11       Electronics      Audio and video           805\n",
       "12       Electronics              Cameras           814\n",
       "13       Electronics            Computers           794\n",
       "14       Electronics              Mobiles           866\n",
       "15       Electronics  Personal Appliances           810\n",
       "16          Footwear                 Kids           830\n",
       "17          Footwear                 Mens           761\n",
       "18          Footwear                Women           844\n",
       "19  Home and kitchen                 Bath           827\n",
       "20  Home and kitchen           Furnishing           811\n",
       "21  Home and kitchen              Kitchen           829\n",
       "22  Home and kitchen                Tools           888"
      ]
     },
     "execution_count": 26,
     "metadata": {},
     "output_type": "execute_result"
    }
   ],
   "source": [
    "sub_category_sales = final.groupby(['prod_cat','prod_subcat'],as_index=False)['transaction_id'].count()\n",
    "sub_category_sales.rename(columns = {'prod_cat':'Product Category','prod_subcat':'Product Sub-Category','transaction_id':'No. of Sales'}, inplace=True)\n",
    "sub_category_sales"
   ]
  },
  {
   "cell_type": "markdown",
   "id": "285a0fdf",
   "metadata": {
    "papermill": {
     "duration": 0.065845,
     "end_time": "2022-01-30T09:05:09.908312",
     "exception": false,
     "start_time": "2022-01-30T09:05:09.842467",
     "status": "completed"
    },
    "tags": []
   },
   "source": [
    "**The category wise sales percentage is shown as a pie chart shown below.**"
   ]
  },
  {
   "cell_type": "code",
   "execution_count": 27,
   "id": "da3dd57f",
   "metadata": {
    "execution": {
     "iopub.execute_input": "2022-01-30T09:05:10.056886Z",
     "iopub.status.busy": "2022-01-30T09:05:10.056156Z",
     "iopub.status.idle": "2022-01-30T09:05:10.263902Z",
     "shell.execute_reply": "2022-01-30T09:05:10.264812Z",
     "shell.execute_reply.started": "2022-01-30T08:59:13.042789Z"
    },
    "papermill": {
     "duration": 0.289866,
     "end_time": "2022-01-30T09:05:10.265152",
     "exception": false,
     "start_time": "2022-01-30T09:05:09.975286",
     "status": "completed"
    },
    "scrolled": true,
    "tags": []
   },
   "outputs": [
    {
     "data": {
      "image/png": "[encoded data removed]",
      "text/plain": [
       "<Figure size 432x288 with 1 Axes>"
      ]
     },
     "metadata": {},
     "output_type": "display_data"
    }
   ],
   "source": [
    "# Defining the function to calculate the percentage\n",
    "def percent(x,y):\n",
    "    return(x*100/y)\n",
    "\n",
    "category_sales['Sales_percentage'] = category_sales.groupby(by='Product Category')['No. of Sales'].apply(lambda x: percent(x,category_sales['No. of Sales'].sum()))\n",
    "\n",
    "plt.pie(category_sales['Sales_percentage'],  \n",
    "        autopct = \"%1.1f%%\",\n",
    "        labels=category_sales['Product Category'], \n",
    "        labeldistance= 1.2,\n",
    "        rotatelabels=False)\n",
    "plt.title('Product Category wise sales percentage')\n",
    "plt.legend(title='Category wise sales percentage',\n",
    "           loc = 'center right',\n",
    "           bbox_to_anchor =(1.75, 0, 0.5, 1))\n",
    "plt.show()"
   ]
  },
  {
   "cell_type": "markdown",
   "id": "ccaeacaa",
   "metadata": {
    "papermill": {
     "duration": 0.067412,
     "end_time": "2022-01-30T09:05:10.420800",
     "exception": false,
     "start_time": "2022-01-30T09:05:10.353388",
     "status": "completed"
    },
    "tags": []
   },
   "source": [
    "### *From the demographic, it is evident that the contribution by Books & Electronics to total revenue/sales is major."
   ]
  },
  {
   "cell_type": "markdown",
   "id": "18f33c6c",
   "metadata": {
    "papermill": {
     "duration": 0.067447,
     "end_time": "2022-01-30T09:05:10.555954",
     "exception": false,
     "start_time": "2022-01-30T09:05:10.488507",
     "status": "completed"
    },
    "tags": []
   },
   "source": [
    "**Yearwise sales calculation.**"
   ]
  },
  {
   "cell_type": "code",
   "execution_count": 28,
   "id": "3f86c82c",
   "metadata": {
    "execution": {
     "iopub.execute_input": "2022-01-30T09:05:10.697605Z",
     "iopub.status.busy": "2022-01-30T09:05:10.696948Z",
     "iopub.status.idle": "2022-01-30T09:05:10.715486Z",
     "shell.execute_reply": "2022-01-30T09:05:10.715972Z",
     "shell.execute_reply.started": "2022-01-30T08:59:13.286623Z"
    },
    "papermill": {
     "duration": 0.092822,
     "end_time": "2022-01-30T09:05:10.716174",
     "exception": false,
     "start_time": "2022-01-30T09:05:10.623352",
     "status": "completed"
    },
    "tags": []
   },
   "outputs": [
    {
     "data": {
      "text/html": [
       "<div>\n",
       "<style scoped>\n",
       "    .dataframe tbody tr th:only-of-type {\n",
       "        vertical-align: middle;\n",
       "    }\n",
       "\n",
       "    .dataframe tbody tr th {\n",
       "        vertical-align: top;\n",
       "    }\n",
       "\n",
       "    .dataframe thead th {\n",
       "        text-align: right;\n",
       "    }\n",
       "</style>\n",
       "<table border=\"1\" class=\"dataframe\">\n",
       "  <thead>\n",
       "    <tr style=\"text-align: right;\">\n",
       "      <th></th>\n",
       "      <th>Year</th>\n",
       "      <th>Month</th>\n",
       "      <th>No. of Sales</th>\n",
       "      <th>Total Revenue</th>\n",
       "    </tr>\n",
       "  </thead>\n",
       "  <tbody>\n",
       "    <tr>\n",
       "      <th>0</th>\n",
       "      <td>2011</td>\n",
       "      <td>April</td>\n",
       "      <td>501</td>\n",
       "      <td>1347259.095</td>\n",
       "    </tr>\n",
       "    <tr>\n",
       "      <th>1</th>\n",
       "      <td>2011</td>\n",
       "      <td>August</td>\n",
       "      <td>464</td>\n",
       "      <td>1165075.535</td>\n",
       "    </tr>\n",
       "    <tr>\n",
       "      <th>2</th>\n",
       "      <td>2011</td>\n",
       "      <td>December</td>\n",
       "      <td>485</td>\n",
       "      <td>1195754.755</td>\n",
       "    </tr>\n",
       "    <tr>\n",
       "      <th>3</th>\n",
       "      <td>2011</td>\n",
       "      <td>February</td>\n",
       "      <td>432</td>\n",
       "      <td>1110025.540</td>\n",
       "    </tr>\n",
       "    <tr>\n",
       "      <th>4</th>\n",
       "      <td>2011</td>\n",
       "      <td>January</td>\n",
       "      <td>301</td>\n",
       "      <td>803159.305</td>\n",
       "    </tr>\n",
       "  </tbody>\n",
       "</table>\n",
       "</div>"
      ],
      "text/plain": [
       "   Year     Month  No. of Sales  Total Revenue\n",
       "0  2011     April           501    1347259.095\n",
       "1  2011    August           464    1165075.535\n",
       "2  2011  December           485    1195754.755\n",
       "3  2011  February           432    1110025.540\n",
       "4  2011   January           301     803159.305"
      ]
     },
     "execution_count": 28,
     "metadata": {},
     "output_type": "execute_result"
    }
   ],
   "source": [
    "yearly_sales = final.groupby(by=['Year','Month'], as_index=False).agg({\n",
    "    'transaction_id':'count',\n",
    "    'total_amt':'sum'\n",
    "})\n",
    "yearly_sales.rename(columns={'transaction_id':'No. of Sales', 'total_amt':'Total Revenue'}, inplace=True)\n",
    "yearly_sales.head()"
   ]
  },
  {
   "cell_type": "code",
   "execution_count": 29,
   "id": "5fad0176",
   "metadata": {
    "execution": {
     "iopub.execute_input": "2022-01-30T09:05:10.856068Z",
     "iopub.status.busy": "2022-01-30T09:05:10.855350Z",
     "iopub.status.idle": "2022-01-30T09:05:11.155354Z",
     "shell.execute_reply": "2022-01-30T09:05:11.155826Z",
     "shell.execute_reply.started": "2022-01-30T08:59:13.314196Z"
    },
    "papermill": {
     "duration": 0.371683,
     "end_time": "2022-01-30T09:05:11.156030",
     "exception": false,
     "start_time": "2022-01-30T09:05:10.784347",
     "status": "completed"
    },
    "scrolled": true,
    "tags": []
   },
   "outputs": [
    {
     "data": {
      "image/png": "[encoded data removed]",
      "text/plain": [
       "<Figure size 432x288 with 2 Axes>"
      ]
     },
     "metadata": {},
     "output_type": "display_data"
    }
   ],
   "source": [
    "plt.suptitle('Year-Wise Sales and Revenue Splitup (Pie-Chart)')\n",
    "plt.subplot(1,3,1)\n",
    "plt.pie(yearly_sales.drop('Month', axis=1).groupby(by=['Year'], as_index=False).agg({'No. of Sales':'sum', 'Total Revenue':'sum'})['No. of Sales'],  \n",
    "        autopct = \"%1.1f%%\",\n",
    "        labels=yearly_sales.drop('Month', axis=1).groupby(by=['Year'], as_index=False).agg({'No. of Sales':'count', 'Total Revenue':'sum'})['Year'], \n",
    "        labeldistance= 1.2,\n",
    "        radius = 2,\n",
    "        rotatelabels=False)\n",
    "plt.legend(title='Year-wise Sales percentage',\n",
    "           loc = 'center left',\n",
    "           bbox_to_anchor =(-2.5, 0.5, 0, 0))\n",
    "\n",
    "plt.subplot(1,3,3)\n",
    "plt.pie(yearly_sales.drop('Month', axis=1).groupby(by=['Year'], as_index=False).agg({'No. of Sales':'count', 'Total Revenue':'sum'})['Total Revenue'],  \n",
    "        autopct = \"%1.1f%%\",\n",
    "        labels=yearly_sales.drop('Month', axis=1).groupby(by=['Year'], as_index=False).agg({'No. of Sales':'count', 'Total Revenue':'sum'})['Year'], \n",
    "        labeldistance= 1.2,\n",
    "        radius=2,\n",
    "        rotatelabels=False)\n",
    "plt.legend(title='Year-wise Revenue percentage',\n",
    "           loc = 'center right',\n",
    "           bbox_to_anchor =(3, 0, 0.5, 1))\n",
    "plt.show()"
   ]
  },
  {
   "cell_type": "code",
   "execution_count": 30,
   "id": "417f5048",
   "metadata": {
    "execution": {
     "iopub.execute_input": "2022-01-30T09:05:11.300436Z",
     "iopub.status.busy": "2022-01-30T09:05:11.299719Z",
     "iopub.status.idle": "2022-01-30T09:05:11.580507Z",
     "shell.execute_reply": "2022-01-30T09:05:11.580993Z",
     "shell.execute_reply.started": "2022-01-30T08:59:13.615837Z"
    },
    "papermill": {
     "duration": 0.35507,
     "end_time": "2022-01-30T09:05:11.581178",
     "exception": false,
     "start_time": "2022-01-30T09:05:11.226108",
     "status": "completed"
    },
    "tags": []
   },
   "outputs": [
    {
     "data": {
      "image/png": "[encoded data removed]",
      "text/plain": [
       "<Figure size 432x288 with 2 Axes>"
      ]
     },
     "metadata": {
      "needs_background": "light"
     },
     "output_type": "display_data"
    }
   ],
   "source": [
    "plt.suptitle('Year-Wise Sales and Revenue Splitup (Line-Graph)')\n",
    "plt.subplot(1,3,1)\n",
    "plt.plot(yearly_sales.drop('Month', axis=1).groupby(by=['Year'], as_index=False).agg({'No. of Sales':'sum', 'Total Revenue':'sum'})['Year'],\n",
    "        yearly_sales.drop('Month', axis=1).groupby(by=['Year'], as_index=False).agg({'No. of Sales':'sum', 'Total Revenue':'sum'})['No. of Sales']\n",
    "        )\n",
    "plt.xlabel('Year')\n",
    "plt.ylabel('No. of Sales')\n",
    "\n",
    "plt.subplot(1,3,3)\n",
    "plt.plot(yearly_sales.drop('Month', axis=1).groupby(by=['Year'], as_index=False).agg({'No. of Sales':'count', 'Total Revenue':'sum'})['Year'],  \n",
    "        yearly_sales.drop('Month', axis=1).groupby(by=['Year'], as_index=False).agg({'No. of Sales':'count', 'Total Revenue':'sum'})['Total Revenue']\n",
    "        )\n",
    "plt.xlabel('Year')\n",
    "plt.ylabel('Revenue')\n",
    "\n",
    "plt.show()"
   ]
  },
  {
   "cell_type": "markdown",
   "id": "4798ae95",
   "metadata": {
    "papermill": {
     "duration": 0.070078,
     "end_time": "2022-01-30T09:05:11.722739",
     "exception": false,
     "start_time": "2022-01-30T09:05:11.652661",
     "status": "completed"
    },
    "tags": []
   },
   "source": [
    "### *2012 is the most profitable year and 2014 is the least profitable year. Total revenue from year 2014 is approx. 1/8th of total 2012 sales."
   ]
  },
  {
   "cell_type": "markdown",
   "id": "bdc0f91e",
   "metadata": {
    "papermill": {
     "duration": 0.070705,
     "end_time": "2022-01-30T09:05:11.864507",
     "exception": false,
     "start_time": "2022-01-30T09:05:11.793802",
     "status": "completed"
    },
    "tags": []
   },
   "source": [
    "**Customer Age & Customer transaction amount details such as mean, minimum and maximum are calculculated and plotted.**"
   ]
  },
  {
   "cell_type": "code",
   "execution_count": 31,
   "id": "7a631840",
   "metadata": {
    "execution": {
     "iopub.execute_input": "2022-01-30T09:05:12.032794Z",
     "iopub.status.busy": "2022-01-30T09:05:12.032163Z",
     "iopub.status.idle": "2022-01-30T09:05:12.984420Z",
     "shell.execute_reply": "2022-01-30T09:05:12.983474Z",
     "shell.execute_reply.started": "2022-01-30T08:59:13.906836Z"
    },
    "papermill": {
     "duration": 1.03645,
     "end_time": "2022-01-30T09:05:12.984567",
     "exception": false,
     "start_time": "2022-01-30T09:05:11.948117",
     "status": "completed"
    },
    "tags": []
   },
   "outputs": [
    {
     "data": {
      "text/plain": [
       "<Figure size 432x288 with 0 Axes>"
      ]
     },
     "metadata": {},
     "output_type": "display_data"
    },
    {
     "data": {
      "image/png": "[encoded data removed]",
      "text/plain": [
       "<Figure size 360x360 with 1 Axes>"
      ]
     },
     "metadata": {
      "needs_background": "light"
     },
     "output_type": "display_data"
    },
    {
     "data": {
      "image/png": "[encoded data removed]",
      "text/plain": [
       "<Figure size 360x360 with 1 Axes>"
      ]
     },
     "metadata": {
      "needs_background": "light"
     },
     "output_type": "display_data"
    }
   ],
   "source": [
    "plt.suptitle('Distribution of Customer Age and Customer Purchase Amount')\n",
    "\n",
    "sns.displot(final['Age'], bins=10, kde=True).set(title='Customer Age distribution')\n",
    "plt.axvline(final['Age'].mean(), color='r', label=\"Mean Age = \"+str(round(final['Age'].mean(),1)))\n",
    "plt.axvline(final['Age'].min(), color='b', label=\"Min. Age = \"+str(final['Age'].min()))\n",
    "plt.axvline(final['Age'].max(), color='g', label=\"Max. Age = \"+str(final['Age'].max()))\n",
    "plt.legend(loc='upper right', bbox_to_anchor=(1.5,1,0,0))\n",
    "plt.show()\n",
    "\n",
    "sns.displot(final['total_amt'], bins=10, kde=True).set(title='Customer Purchase Amount distribution')\n",
    "plt.axvline(final['total_amt'].mean(), color='r', label=\"Mean Amount = \"+str(round(final['total_amt'].mean(),1)))\n",
    "plt.axvline(final['total_amt'].min(), color='b', label=\"Min. Amount = \"+str(final['total_amt'].min()))\n",
    "plt.axvline(final['total_amt'].max(), color='g', label=\"Max. Amount = \"+str(final['total_amt'].max()))\n",
    "plt.legend(loc='upper right', bbox_to_anchor=(1.6,1,0,0))\n",
    "plt.show()"
   ]
  },
  {
   "cell_type": "markdown",
   "id": "12cd9e2c",
   "metadata": {
    "papermill": {
     "duration": 0.072581,
     "end_time": "2022-01-30T09:05:13.130550",
     "exception": false,
     "start_time": "2022-01-30T09:05:13.057969",
     "status": "completed"
    },
    "tags": []
   },
   "source": [
    "**Gender wise sales split of each product category is plotted here.**"
   ]
  },
  {
   "cell_type": "code",
   "execution_count": 32,
   "id": "868c936a",
   "metadata": {
    "execution": {
     "iopub.execute_input": "2022-01-30T09:05:13.280528Z",
     "iopub.status.busy": "2022-01-30T09:05:13.279872Z",
     "iopub.status.idle": "2022-01-30T09:05:13.298504Z",
     "shell.execute_reply": "2022-01-30T09:05:13.298969Z",
     "shell.execute_reply.started": "2022-01-30T08:59:14.851306Z"
    },
    "papermill": {
     "duration": 0.095779,
     "end_time": "2022-01-30T09:05:13.299144",
     "exception": false,
     "start_time": "2022-01-30T09:05:13.203365",
     "status": "completed"
    },
    "tags": []
   },
   "outputs": [
    {
     "data": {
      "text/html": [
       "<div>\n",
       "<style scoped>\n",
       "    .dataframe tbody tr th:only-of-type {\n",
       "        vertical-align: middle;\n",
       "    }\n",
       "\n",
       "    .dataframe tbody tr th {\n",
       "        vertical-align: top;\n",
       "    }\n",
       "\n",
       "    .dataframe thead th {\n",
       "        text-align: right;\n",
       "    }\n",
       "</style>\n",
       "<table border=\"1\" class=\"dataframe\">\n",
       "  <thead>\n",
       "    <tr style=\"text-align: right;\">\n",
       "      <th></th>\n",
       "      <th>prod_cat</th>\n",
       "      <th>Gender</th>\n",
       "      <th>total_amt</th>\n",
       "    </tr>\n",
       "  </thead>\n",
       "  <tbody>\n",
       "    <tr>\n",
       "      <th>0</th>\n",
       "      <td>Bags</td>\n",
       "      <td>F</td>\n",
       "      <td>2101984.040</td>\n",
       "    </tr>\n",
       "    <tr>\n",
       "      <th>1</th>\n",
       "      <td>Bags</td>\n",
       "      <td>M</td>\n",
       "      <td>2057860.285</td>\n",
       "    </tr>\n",
       "    <tr>\n",
       "      <th>2</th>\n",
       "      <td>Books</td>\n",
       "      <td>F</td>\n",
       "      <td>6210377.355</td>\n",
       "    </tr>\n",
       "    <tr>\n",
       "      <th>3</th>\n",
       "      <td>Books</td>\n",
       "      <td>M</td>\n",
       "      <td>6672257.410</td>\n",
       "    </tr>\n",
       "    <tr>\n",
       "      <th>4</th>\n",
       "      <td>Clothing</td>\n",
       "      <td>F</td>\n",
       "      <td>3053488.490</td>\n",
       "    </tr>\n",
       "    <tr>\n",
       "      <th>5</th>\n",
       "      <td>Clothing</td>\n",
       "      <td>M</td>\n",
       "      <td>3246209.330</td>\n",
       "    </tr>\n",
       "    <tr>\n",
       "      <th>6</th>\n",
       "      <td>Electronics</td>\n",
       "      <td>F</td>\n",
       "      <td>5036176.730</td>\n",
       "    </tr>\n",
       "    <tr>\n",
       "      <th>7</th>\n",
       "      <td>Electronics</td>\n",
       "      <td>M</td>\n",
       "      <td>5739437.405</td>\n",
       "    </tr>\n",
       "    <tr>\n",
       "      <th>8</th>\n",
       "      <td>Footwear</td>\n",
       "      <td>F</td>\n",
       "      <td>3226672.930</td>\n",
       "    </tr>\n",
       "    <tr>\n",
       "      <th>9</th>\n",
       "      <td>Footwear</td>\n",
       "      <td>M</td>\n",
       "      <td>3036753.265</td>\n",
       "    </tr>\n",
       "    <tr>\n",
       "      <th>10</th>\n",
       "      <td>Home and kitchen</td>\n",
       "      <td>F</td>\n",
       "      <td>4156724.910</td>\n",
       "    </tr>\n",
       "    <tr>\n",
       "      <th>11</th>\n",
       "      <td>Home and kitchen</td>\n",
       "      <td>M</td>\n",
       "      <td>4329880.620</td>\n",
       "    </tr>\n",
       "  </tbody>\n",
       "</table>\n",
       "</div>"
      ],
      "text/plain": [
       "            prod_cat Gender    total_amt\n",
       "0               Bags      F  2101984.040\n",
       "1               Bags      M  2057860.285\n",
       "2              Books      F  6210377.355\n",
       "3              Books      M  6672257.410\n",
       "4           Clothing      F  3053488.490\n",
       "5           Clothing      M  3246209.330\n",
       "6        Electronics      F  5036176.730\n",
       "7        Electronics      M  5739437.405\n",
       "8           Footwear      F  3226672.930\n",
       "9           Footwear      M  3036753.265\n",
       "10  Home and kitchen      F  4156724.910\n",
       "11  Home and kitchen      M  4329880.620"
      ]
     },
     "execution_count": 32,
     "metadata": {},
     "output_type": "execute_result"
    }
   ],
   "source": [
    "final.groupby(by=['prod_cat','Gender'],as_index=False)['total_amt'].sum()"
   ]
  },
  {
   "cell_type": "code",
   "execution_count": 33,
   "id": "3484bfc3",
   "metadata": {
    "execution": {
     "iopub.execute_input": "2022-01-30T09:05:13.448559Z",
     "iopub.status.busy": "2022-01-30T09:05:13.447913Z",
     "iopub.status.idle": "2022-01-30T09:05:13.719140Z",
     "shell.execute_reply": "2022-01-30T09:05:13.718625Z",
     "shell.execute_reply.started": "2022-01-30T08:59:14.875429Z"
    },
    "papermill": {
     "duration": 0.347051,
     "end_time": "2022-01-30T09:05:13.719283",
     "exception": false,
     "start_time": "2022-01-30T09:05:13.372232",
     "status": "completed"
    },
    "tags": []
   },
   "outputs": [
    {
     "data": {
      "image/png": "[encoded data removed]",
      "text/plain": [
       "<Figure size 432x288 with 1 Axes>"
      ]
     },
     "metadata": {
      "needs_background": "light"
     },
     "output_type": "display_data"
    }
   ],
   "source": [
    "x = np.arange(len(final.groupby(by=['prod_cat','Gender'],as_index=False)['total_amt'].sum()['prod_cat'].unique()))\n",
    "\n",
    "y_male = final.groupby(by=['prod_cat','Gender'],as_index=False)['total_amt'].sum()\n",
    "y_male = y_male.where(y_male['Gender']=='M')['total_amt'].dropna()\n",
    "\n",
    "\n",
    "y_female = final.groupby(by=['prod_cat','Gender'],as_index=False)['total_amt'].sum()\n",
    "y_female = y_female.where(y_female['Gender']=='F')['total_amt'].dropna()\n",
    "\n",
    "plt.bar(x-0.15 ,y_male ,0.3, label='Male', color='r')\n",
    "plt.bar(x+0.15 ,y_female, 0.3, label='Female')\n",
    "\n",
    "plt.xticks(x, final.groupby(by=['prod_cat','Gender'],as_index=False)['total_amt'].sum()['prod_cat'].unique(), rotation=-45)\n",
    "plt.title('Gender-wise Revenue on each Product Category')\n",
    "plt.xlabel(\"Product Categories\")\n",
    "plt.ylabel('Total revenue in Rs.')\n",
    "plt.legend()\n",
    "plt.show()"
   ]
  },
  {
   "cell_type": "code",
   "execution_count": 34,
   "id": "4b311a64",
   "metadata": {
    "execution": {
     "iopub.execute_input": "2022-01-30T09:05:13.874245Z",
     "iopub.status.busy": "2022-01-30T09:05:13.873595Z",
     "iopub.status.idle": "2022-01-30T09:05:13.876175Z",
     "shell.execute_reply": "2022-01-30T09:05:13.876885Z",
     "shell.execute_reply.started": "2022-01-30T08:59:15.150337Z"
    },
    "papermill": {
     "duration": 0.083597,
     "end_time": "2022-01-30T09:05:13.877102",
     "exception": false,
     "start_time": "2022-01-30T09:05:13.793505",
     "status": "completed"
    },
    "tags": []
   },
   "outputs": [
    {
     "name": "stdout",
     "output_type": "stream",
     "text": [
      "Total revenue from male customers : \u001b[1m25082398.32\u001b[0m\n",
      "Total revenue from male customer are \u001b[1m51.33% \u001b[0m of total revenue\n"
     ]
    }
   ],
   "source": [
    "print(f\"Total revenue from male customers : \\033[1m{round(y_male.sum(),2)}\\033[0m\")\n",
    "print(f\"Total revenue from male customer are \\033[1m{round(y_male.sum()*100/total_revenue,2)}% \\033[0m of total revenue\")"
   ]
  },
  {
   "cell_type": "code",
   "execution_count": 35,
   "id": "3be26a58",
   "metadata": {
    "execution": {
     "iopub.execute_input": "2022-01-30T09:05:14.037382Z",
     "iopub.status.busy": "2022-01-30T09:05:14.032394Z",
     "iopub.status.idle": "2022-01-30T09:05:14.048530Z",
     "shell.execute_reply": "2022-01-30T09:05:14.047827Z",
     "shell.execute_reply.started": "2022-01-30T08:59:15.158594Z"
    },
    "papermill": {
     "duration": 0.094966,
     "end_time": "2022-01-30T09:05:14.048671",
     "exception": false,
     "start_time": "2022-01-30T09:05:13.953705",
     "status": "completed"
    },
    "tags": []
   },
   "outputs": [
    {
     "name": "stdout",
     "output_type": "stream",
     "text": [
      "Total revenue from Male customer through Electronic products is : \u001b[1m5739437.41\u001b[0m\n"
     ]
    }
   ],
   "source": [
    "male_elec = final.groupby(by=['prod_cat','Gender'],as_index=False)['total_amt'].sum()\n",
    "\n",
    "print(f\"Total revenue from Male customer through Electronic products is : \\033[1m{round(male_elec.loc[(male_elec['Gender'] == 'M') & (male_elec['prod_cat']=='Electronics')]['total_amt'].item(),2)}\\033[0m\")"
   ]
  },
  {
   "cell_type": "code",
   "execution_count": 36,
   "id": "df7a2c2a",
   "metadata": {
    "execution": {
     "iopub.execute_input": "2022-01-30T09:05:14.217352Z",
     "iopub.status.busy": "2022-01-30T09:05:14.216326Z",
     "iopub.status.idle": "2022-01-30T09:05:14.293098Z",
     "shell.execute_reply": "2022-01-30T09:05:14.293724Z",
     "shell.execute_reply.started": "2022-01-30T08:59:15.187147Z"
    },
    "papermill": {
     "duration": 0.168692,
     "end_time": "2022-01-30T09:05:14.293913",
     "exception": false,
     "start_time": "2022-01-30T09:05:14.125221",
     "status": "completed"
    },
    "tags": []
   },
   "outputs": [
    {
     "name": "stdout",
     "output_type": "stream",
     "text": [
      "\u001b[1m From the graph above, it is evident that the most popular category is Books \u001b[0m\n",
      "\n",
      "Most popular product among male cusomers is: \u001b[1mBooks\u001b[0m & Total revenue in this category is: \u001b[1m6672257.41\u001b[0m\n",
      "Most popular product among female cusomers is: \u001b[1mBooks\u001b[0m & Total revenue in this category is: \u001b[1m6210377.36\u001b[0m\n"
     ]
    }
   ],
   "source": [
    "male_prod = final.groupby(by=['prod_cat','Gender'],as_index=False)['total_amt'].sum().where(\n",
    "    final.groupby(by=['prod_cat','Gender'],as_index=False)['total_amt'].sum()['Gender']=='M'\n",
    ").dropna()\n",
    "male_prod=male_prod.loc[male_prod['total_amt'].idxmax()]['prod_cat']\n",
    "\n",
    "male_amt = final.groupby(by=['prod_cat','Gender'],as_index=False)['total_amt'].sum().where(\n",
    "    final.groupby(by=['prod_cat','Gender'],as_index=False)['total_amt'].sum()['Gender']=='M'\n",
    ").dropna()\n",
    "male_amt = male_amt.loc[male_amt['total_amt'].idxmax()]['total_amt']\n",
    "\n",
    "female_prod = final.groupby(by=['prod_cat','Gender'],as_index=False)['total_amt'].sum().where(\n",
    "    final.groupby(by=['prod_cat','Gender'],as_index=False)['total_amt'].sum()['Gender']=='F'\n",
    ").dropna()\n",
    "female_prod=female_prod.loc[female_prod['total_amt'].idxmax()]['prod_cat']\n",
    "\n",
    "female_amt = final.groupby(by=['prod_cat','Gender'],as_index=False)['total_amt'].sum().where(\n",
    "    final.groupby(by=['prod_cat','Gender'],as_index=False)['total_amt'].sum()['Gender']=='F'\n",
    ").dropna()\n",
    "female_amt = female_amt.loc[female_amt['total_amt'].idxmax()]['total_amt']\n",
    "\n",
    "print(\"\\033[1m From the graph above, it is evident that the most popular category is Books \\033[0m\")\n",
    "print()\n",
    "print(f\"Most popular product among male cusomers is: \\033[1m{male_prod}\\033[0m & Total revenue in this category is: \\033[1m{round(male_amt,2)}\\033[0m\")\n",
    "print(f\"Most popular product among female cusomers is: \\033[1m{female_prod}\\033[0m & Total revenue in this category is: \\033[1m{round(female_amt,2)}\\033[0m\")"
   ]
  },
  {
   "cell_type": "markdown",
   "id": "d10b2a37",
   "metadata": {
    "papermill": {
     "duration": 0.075668,
     "end_time": "2022-01-30T09:05:14.445109",
     "exception": false,
     "start_time": "2022-01-30T09:05:14.369441",
     "status": "completed"
    },
    "tags": []
   },
   "source": [
    "**City-wise sales and customer share.**"
   ]
  },
  {
   "cell_type": "code",
   "execution_count": 37,
   "id": "644433fb",
   "metadata": {
    "execution": {
     "iopub.execute_input": "2022-01-30T09:05:14.598754Z",
     "iopub.status.busy": "2022-01-30T09:05:14.598093Z",
     "iopub.status.idle": "2022-01-30T09:05:14.612468Z",
     "shell.execute_reply": "2022-01-30T09:05:14.613052Z",
     "shell.execute_reply.started": "2022-01-30T08:59:15.275519Z"
    },
    "papermill": {
     "duration": 0.092913,
     "end_time": "2022-01-30T09:05:14.613253",
     "exception": false,
     "start_time": "2022-01-30T09:05:14.520340",
     "status": "completed"
    },
    "tags": []
   },
   "outputs": [
    {
     "name": "stdout",
     "output_type": "stream",
     "text": [
      "City Code with Maximum number of customers is: \u001b[1m3.0\u001b[0m \n",
      "Total number of customers from this city is: \u001b[1m569.0\u001b[0m \n",
      "Percentage of customers out of total customers from this city is: \u001b[1m10.46%\u001b[0m\n"
     ]
    }
   ],
   "source": [
    "city_sales = final.groupby(by=['city_code'], as_index=False).agg({'cust_id':lambda x: x.nunique()}) \n",
    "city_sales['cust_percent'] = city_sales['cust_id'].apply(lambda x: x*100/total_cust)\n",
    "city_sales.loc[city_sales['cust_percent'].idxmax()]\n",
    "\n",
    "print(f\"City Code with Maximum number of customers is: \\033[1m{city_sales.loc[city_sales['cust_percent'].idxmax()]['city_code']}\\033[0m \\nTotal number of customers from this city is: \\033[1m{city_sales.loc[city_sales['cust_percent'].idxmax()]['cust_id']}\\033[0m \\nPercentage of customers out of total customers from this city is: \\033[1m{round(city_sales.loc[city_sales['cust_percent'].idxmax()]['cust_percent'],2)}%\\033[0m\")"
   ]
  },
  {
   "cell_type": "code",
   "execution_count": 38,
   "id": "4c8e4ccc",
   "metadata": {
    "execution": {
     "iopub.execute_input": "2022-01-30T09:05:14.768127Z",
     "iopub.status.busy": "2022-01-30T09:05:14.767490Z",
     "iopub.status.idle": "2022-01-30T09:05:14.981028Z",
     "shell.execute_reply": "2022-01-30T09:05:14.980437Z",
     "shell.execute_reply.started": "2022-01-30T08:59:15.291940Z"
    },
    "papermill": {
     "duration": 0.292111,
     "end_time": "2022-01-30T09:05:14.981199",
     "exception": false,
     "start_time": "2022-01-30T09:05:14.689088",
     "status": "completed"
    },
    "tags": []
   },
   "outputs": [
    {
     "data": {
      "image/png": "[encoded data removed]",
      "text/plain": [
       "<Figure size 432x288 with 1 Axes>"
      ]
     },
     "metadata": {
      "needs_background": "light"
     },
     "output_type": "display_data"
    }
   ],
   "source": [
    "plt.barh(city_sales['city_code'],\n",
    "        city_sales['cust_percent'], 0.2\n",
    ")\n",
    "plt.yticks(np.arange(0,len(city_sales['city_code'])+1,1))\n",
    "plt.title('City-wise customer percentage')\n",
    "plt.ylabel('City Code')\n",
    "plt.xlabel('Percentage of customers out of total customers')\n",
    "plt.show()"
   ]
  },
  {
   "cell_type": "code",
   "execution_count": 39,
   "id": "acb346a9",
   "metadata": {
    "execution": {
     "iopub.execute_input": "2022-01-30T09:05:15.142326Z",
     "iopub.status.busy": "2022-01-30T09:05:15.141645Z",
     "iopub.status.idle": "2022-01-30T09:05:15.148860Z",
     "shell.execute_reply": "2022-01-30T09:05:15.149385Z",
     "shell.execute_reply.started": "2022-01-30T08:59:15.511060Z"
    },
    "papermill": {
     "duration": 0.090389,
     "end_time": "2022-01-30T09:05:15.149549",
     "exception": false,
     "start_time": "2022-01-30T09:05:15.059160",
     "status": "completed"
    },
    "tags": []
   },
   "outputs": [
    {
     "name": "stdout",
     "output_type": "stream",
     "text": [
      "City with Maximum revenue is: \u001b[1m3.0\u001b[0m and the revenue from this city is: \u001b[1m5192428.15\u001b[0m\n"
     ]
    }
   ],
   "source": [
    "city_rev = final.groupby(by=['city_code'], as_index=False).agg({'total_amt':'sum'}) \n",
    "city_rev.loc[city_rev['total_amt'].idxmax()]\n",
    "print(f\"City with Maximum revenue is: \\033[1m{city_rev.loc[city_rev['total_amt'].idxmax()]['city_code']}\\033[0m and the revenue from this city is: \\033[1m{round(city_rev.loc[city_rev['total_amt'].idxmax()]['total_amt'],2)}\\033[0m\")"
   ]
  },
  {
   "cell_type": "code",
   "execution_count": 40,
   "id": "b8e0bf61",
   "metadata": {
    "execution": {
     "iopub.execute_input": "2022-01-30T09:05:15.307103Z",
     "iopub.status.busy": "2022-01-30T09:05:15.306468Z",
     "iopub.status.idle": "2022-01-30T09:05:15.515594Z",
     "shell.execute_reply": "2022-01-30T09:05:15.515079Z",
     "shell.execute_reply.started": "2022-01-30T08:59:15.524808Z"
    },
    "papermill": {
     "duration": 0.289232,
     "end_time": "2022-01-30T09:05:15.515735",
     "exception": false,
     "start_time": "2022-01-30T09:05:15.226503",
     "status": "completed"
    },
    "tags": []
   },
   "outputs": [
    {
     "data": {
      "image/png": "[encoded data removed]",
      "text/plain": [
       "<Figure size 432x288 with 1 Axes>"
      ]
     },
     "metadata": {
      "needs_background": "light"
     },
     "output_type": "display_data"
    }
   ],
   "source": [
    "plt.barh(city_rev['city_code'],\n",
    "        city_rev['total_amt'], 0.2\n",
    ")\n",
    "plt.yticks(np.arange(0,len(city_sales['city_code'])+1,1))\n",
    "plt.title('City-wise Revenue')\n",
    "plt.ylabel('City Code')\n",
    "plt.xlabel('Revenue')\n",
    "plt.show()"
   ]
  },
  {
   "cell_type": "markdown",
   "id": "b01d4138",
   "metadata": {
    "papermill": {
     "duration": 0.077613,
     "end_time": "2022-01-30T09:05:15.670915",
     "exception": false,
     "start_time": "2022-01-30T09:05:15.593302",
     "status": "completed"
    },
    "tags": []
   },
   "source": [
    "**Store wise sales.**"
   ]
  },
  {
   "cell_type": "code",
   "execution_count": 41,
   "id": "70caf5dd",
   "metadata": {
    "execution": {
     "iopub.execute_input": "2022-01-30T09:05:15.848253Z",
     "iopub.status.busy": "2022-01-30T09:05:15.847422Z",
     "iopub.status.idle": "2022-01-30T09:05:15.850572Z",
     "shell.execute_reply": "2022-01-30T09:05:15.851079Z",
     "shell.execute_reply.started": "2022-01-30T08:59:15.757932Z"
    },
    "papermill": {
     "duration": 0.102364,
     "end_time": "2022-01-30T09:05:15.851247",
     "exception": false,
     "start_time": "2022-01-30T09:05:15.748883",
     "status": "completed"
    },
    "scrolled": true,
    "tags": []
   },
   "outputs": [
    {
     "data": {
      "text/html": [
       "<div>\n",
       "<style scoped>\n",
       "    .dataframe tbody tr th:only-of-type {\n",
       "        vertical-align: middle;\n",
       "    }\n",
       "\n",
       "    .dataframe tbody tr th {\n",
       "        vertical-align: top;\n",
       "    }\n",
       "\n",
       "    .dataframe thead th {\n",
       "        text-align: right;\n",
       "    }\n",
       "</style>\n",
       "<table border=\"1\" class=\"dataframe\">\n",
       "  <thead>\n",
       "    <tr style=\"text-align: right;\">\n",
       "      <th></th>\n",
       "      <th>transaction_id</th>\n",
       "      <th>cust_id</th>\n",
       "      <th>tran_date</th>\n",
       "      <th>prod_subcat_code</th>\n",
       "      <th>prod_cat_code</th>\n",
       "      <th>Qty</th>\n",
       "      <th>Rate</th>\n",
       "      <th>Tax</th>\n",
       "      <th>total_amt</th>\n",
       "      <th>Store_type</th>\n",
       "      <th>prod_cat</th>\n",
       "      <th>prod_subcat</th>\n",
       "      <th>DOB</th>\n",
       "      <th>Gender</th>\n",
       "      <th>city_code</th>\n",
       "      <th>Month</th>\n",
       "      <th>Year</th>\n",
       "      <th>Age</th>\n",
       "    </tr>\n",
       "  </thead>\n",
       "  <tbody>\n",
       "    <tr>\n",
       "      <th>0</th>\n",
       "      <td>25455265351</td>\n",
       "      <td>267750</td>\n",
       "      <td>2014-02-20</td>\n",
       "      <td>12</td>\n",
       "      <td>6</td>\n",
       "      <td>3</td>\n",
       "      <td>1360</td>\n",
       "      <td>428.400</td>\n",
       "      <td>4508.400</td>\n",
       "      <td>e-Shop</td>\n",
       "      <td>Home and kitchen</td>\n",
       "      <td>Tools</td>\n",
       "      <td>1986-10-13</td>\n",
       "      <td>M</td>\n",
       "      <td>1.0</td>\n",
       "      <td>February</td>\n",
       "      <td>2014</td>\n",
       "      <td>35.3</td>\n",
       "    </tr>\n",
       "    <tr>\n",
       "      <th>1</th>\n",
       "      <td>1571002198</td>\n",
       "      <td>275023</td>\n",
       "      <td>2014-02-20</td>\n",
       "      <td>6</td>\n",
       "      <td>5</td>\n",
       "      <td>4</td>\n",
       "      <td>587</td>\n",
       "      <td>246.540</td>\n",
       "      <td>2594.540</td>\n",
       "      <td>e-Shop</td>\n",
       "      <td>Books</td>\n",
       "      <td>DIY</td>\n",
       "      <td>1971-09-03</td>\n",
       "      <td>M</td>\n",
       "      <td>6.0</td>\n",
       "      <td>February</td>\n",
       "      <td>2014</td>\n",
       "      <td>50.4</td>\n",
       "    </tr>\n",
       "    <tr>\n",
       "      <th>2</th>\n",
       "      <td>36554696014</td>\n",
       "      <td>269345</td>\n",
       "      <td>2014-02-20</td>\n",
       "      <td>3</td>\n",
       "      <td>5</td>\n",
       "      <td>3</td>\n",
       "      <td>1253</td>\n",
       "      <td>394.695</td>\n",
       "      <td>4153.695</td>\n",
       "      <td>e-Shop</td>\n",
       "      <td>Books</td>\n",
       "      <td>Comics</td>\n",
       "      <td>1970-06-26</td>\n",
       "      <td>F</td>\n",
       "      <td>10.0</td>\n",
       "      <td>February</td>\n",
       "      <td>2014</td>\n",
       "      <td>51.6</td>\n",
       "    </tr>\n",
       "    <tr>\n",
       "      <th>3</th>\n",
       "      <td>56814940239</td>\n",
       "      <td>268799</td>\n",
       "      <td>2014-02-20</td>\n",
       "      <td>7</td>\n",
       "      <td>5</td>\n",
       "      <td>5</td>\n",
       "      <td>368</td>\n",
       "      <td>193.200</td>\n",
       "      <td>2033.200</td>\n",
       "      <td>e-Shop</td>\n",
       "      <td>Books</td>\n",
       "      <td>Fiction</td>\n",
       "      <td>1979-06-27</td>\n",
       "      <td>M</td>\n",
       "      <td>9.0</td>\n",
       "      <td>February</td>\n",
       "      <td>2014</td>\n",
       "      <td>42.6</td>\n",
       "    </tr>\n",
       "    <tr>\n",
       "      <th>4</th>\n",
       "      <td>54295803788</td>\n",
       "      <td>270787</td>\n",
       "      <td>2014-02-20</td>\n",
       "      <td>12</td>\n",
       "      <td>5</td>\n",
       "      <td>5</td>\n",
       "      <td>584</td>\n",
       "      <td>306.600</td>\n",
       "      <td>3226.600</td>\n",
       "      <td>e-Shop</td>\n",
       "      <td>Books</td>\n",
       "      <td>Academic</td>\n",
       "      <td>1973-10-09</td>\n",
       "      <td>F</td>\n",
       "      <td>6.0</td>\n",
       "      <td>February</td>\n",
       "      <td>2014</td>\n",
       "      <td>48.3</td>\n",
       "    </tr>\n",
       "  </tbody>\n",
       "</table>\n",
       "</div>"
      ],
      "text/plain": [
       "   transaction_id  cust_id  tran_date  prod_subcat_code  prod_cat_code  Qty  \\\n",
       "0     25455265351   267750 2014-02-20                12              6    3   \n",
       "1      1571002198   275023 2014-02-20                 6              5    4   \n",
       "2     36554696014   269345 2014-02-20                 3              5    3   \n",
       "3     56814940239   268799 2014-02-20                 7              5    5   \n",
       "4     54295803788   270787 2014-02-20                12              5    5   \n",
       "\n",
       "   Rate      Tax  total_amt Store_type          prod_cat prod_subcat  \\\n",
       "0  1360  428.400   4508.400     e-Shop  Home and kitchen       Tools   \n",
       "1   587  246.540   2594.540     e-Shop             Books         DIY   \n",
       "2  1253  394.695   4153.695     e-Shop             Books      Comics   \n",
       "3   368  193.200   2033.200     e-Shop             Books     Fiction   \n",
       "4   584  306.600   3226.600     e-Shop             Books    Academic   \n",
       "\n",
       "         DOB Gender  city_code     Month  Year   Age  \n",
       "0 1986-10-13      M        1.0  February  2014  35.3  \n",
       "1 1971-09-03      M        6.0  February  2014  50.4  \n",
       "2 1970-06-26      F       10.0  February  2014  51.6  \n",
       "3 1979-06-27      M        9.0  February  2014  42.6  \n",
       "4 1973-10-09      F        6.0  February  2014  48.3  "
      ]
     },
     "execution_count": 41,
     "metadata": {},
     "output_type": "execute_result"
    }
   ],
   "source": [
    "final.head()"
   ]
  },
  {
   "cell_type": "code",
   "execution_count": 42,
   "id": "9c78315d",
   "metadata": {
    "execution": {
     "iopub.execute_input": "2022-01-30T09:05:16.014610Z",
     "iopub.status.busy": "2022-01-30T09:05:16.013649Z",
     "iopub.status.idle": "2022-01-30T09:05:16.022811Z",
     "shell.execute_reply": "2022-01-30T09:05:16.023325Z",
     "shell.execute_reply.started": "2022-01-30T08:59:15.781171Z"
    },
    "papermill": {
     "duration": 0.09431,
     "end_time": "2022-01-30T09:05:16.023492",
     "exception": false,
     "start_time": "2022-01-30T09:05:15.929182",
     "status": "completed"
    },
    "tags": []
   },
   "outputs": [
    {
     "name": "stdout",
     "output_type": "stream",
     "text": [
      "Maximum quantity of products were sold through \u001b[1me-Shop\u001b[0m and the quantity is \u001b[1m7592\u001b[0m\n"
     ]
    }
   ],
   "source": [
    "store_sales = final.groupby(by=['Store_type'], as_index=False).agg({'Qty':'count'}) \n",
    "store_sales.loc[store_sales['Qty'].idxmax()]\n",
    "\n",
    "print(f\"Maximum quantity of products were sold through \\033[1m{store_sales.loc[store_sales['Qty'].idxmax()]['Store_type']}\\033[0m and the quantity is \\033[1m{store_sales.loc[store_sales['Qty'].idxmax()]['Qty']}\\033[0m\")"
   ]
  },
  {
   "cell_type": "code",
   "execution_count": 43,
   "id": "0c5d79dd",
   "metadata": {
    "execution": {
     "iopub.execute_input": "2022-01-30T09:05:16.196232Z",
     "iopub.status.busy": "2022-01-30T09:05:16.193234Z",
     "iopub.status.idle": "2022-01-30T09:05:16.365572Z",
     "shell.execute_reply": "2022-01-30T09:05:16.366093Z",
     "shell.execute_reply.started": "2022-01-30T08:59:15.799229Z"
    },
    "papermill": {
     "duration": 0.262873,
     "end_time": "2022-01-30T09:05:16.366279",
     "exception": false,
     "start_time": "2022-01-30T09:05:16.103406",
     "status": "completed"
    },
    "tags": []
   },
   "outputs": [
    {
     "data": {
      "image/png": "[encoded data removed]",
      "text/plain": [
       "<Figure size 432x288 with 1 Axes>"
      ]
     },
     "metadata": {
      "needs_background": "light"
     },
     "output_type": "display_data"
    }
   ],
   "source": [
    "plt.bar(store_sales['Store_type'], store_sales['Qty'], 0.4)\n",
    "\n",
    "plt.title('Store wise Quantity (Items Sold)')\n",
    "plt.xlabel('Store Type')\n",
    "plt.ylabel('Quantity of items sold')\n",
    "plt.show()"
   ]
  },
  {
   "cell_type": "markdown",
   "id": "faffba10",
   "metadata": {
    "papermill": {
     "duration": 0.079151,
     "end_time": "2022-01-30T09:05:16.524611",
     "exception": false,
     "start_time": "2022-01-30T09:05:16.445460",
     "status": "completed"
    },
    "tags": []
   },
   "source": [
    "**Flagship stores out of all store categories is considered here to get details product category wise revenue and identify the top seller.**"
   ]
  },
  {
   "cell_type": "code",
   "execution_count": 44,
   "id": "ab025843",
   "metadata": {
    "execution": {
     "iopub.execute_input": "2022-01-30T09:05:16.692566Z",
     "iopub.status.busy": "2022-01-30T09:05:16.691824Z",
     "iopub.status.idle": "2022-01-30T09:05:16.901849Z",
     "shell.execute_reply": "2022-01-30T09:05:16.903015Z",
     "shell.execute_reply.started": "2022-01-30T08:59:15.994524Z"
    },
    "papermill": {
     "duration": 0.299554,
     "end_time": "2022-01-30T09:05:16.903299",
     "exception": false,
     "start_time": "2022-01-30T09:05:16.603745",
     "status": "completed"
    },
    "tags": []
   },
   "outputs": [
    {
     "data": {
      "image/png": "[encoded data removed]",
      "text/plain": [
       "<Figure size 432x288 with 1 Axes>"
      ]
     },
     "metadata": {},
     "output_type": "display_data"
    }
   ],
   "source": [
    "flagship_data = final.groupby(by=['Store_type','prod_cat'], as_index=False).agg({'total_amt':'sum'}).where(final.groupby(by=['Store_type','prod_cat'], as_index=False).agg({'total_amt':'sum'})['Store_type']=='Flagship store').dropna()\n",
    "plt.pie(flagship_data['total_amt'],\n",
    "       labels = flagship_data['prod_cat'],\n",
    "        autopct='%1.1f%%', pctdistance=0.85\n",
    "       )\n",
    "\n",
    "cir=plt.Circle( (0,0), 0.6, color='white')\n",
    "p=plt.gcf()\n",
    "p.gca().add_artist(cir)\n",
    "\n",
    "plt.title('Product category wise revenue from Flagship Stores')\n",
    "plt.legend(loc='upper right', bbox_to_anchor=(1,1,1,-0.25))\n",
    "plt.show()"
   ]
  },
  {
   "cell_type": "code",
   "execution_count": 45,
   "id": "f9a763e2",
   "metadata": {
    "execution": {
     "iopub.execute_input": "2022-01-30T09:05:17.080444Z",
     "iopub.status.busy": "2022-01-30T09:05:17.079767Z",
     "iopub.status.idle": "2022-01-30T09:05:17.088042Z",
     "shell.execute_reply": "2022-01-30T09:05:17.087020Z",
     "shell.execute_reply.started": "2022-01-30T08:59:16.219332Z"
    },
    "papermill": {
     "duration": 0.092179,
     "end_time": "2022-01-30T09:05:17.088273",
     "exception": false,
     "start_time": "2022-01-30T09:05:16.996094",
     "status": "completed"
    },
    "tags": []
   },
   "outputs": [
    {
     "name": "stdout",
     "output_type": "stream",
     "text": [
      "Total revenue through electronics items at flagship stores: \u001b[1m2231201.63\u001b[0m\n",
      "Total revenue through clothing items at flagship stores: \u001b[1m1196491.79\u001b[0m\n"
     ]
    }
   ],
   "source": [
    "print(f\"Total revenue through electronics items at flagship stores: \\033[1m{round(flagship_data.loc[flagship_data['prod_cat'] == 'Electronics']['total_amt'].item(),2)}\\033[0m\")\n",
    "\n",
    "print(f\"Total revenue through clothing items at flagship stores: \\033[1m{round(flagship_data.loc[flagship_data['prod_cat'] == 'Clothing']['total_amt'].item(),2)}\\033[0m\")"
   ]
  },
  {
   "cell_type": "markdown",
   "id": "e6b5c97d",
   "metadata": {
    "papermill": {
     "duration": 0.080155,
     "end_time": "2022-01-30T09:05:17.249768",
     "exception": false,
     "start_time": "2022-01-30T09:05:17.169613",
     "status": "completed"
    },
    "tags": []
   },
   "source": [
    "**Identifying repeat customers with more than 10 transactions.**"
   ]
  },
  {
   "cell_type": "code",
   "execution_count": 46,
   "id": "71eac9a4",
   "metadata": {
    "execution": {
     "iopub.execute_input": "2022-01-30T09:05:17.417854Z",
     "iopub.status.busy": "2022-01-30T09:05:17.416807Z",
     "iopub.status.idle": "2022-01-30T09:05:17.431137Z",
     "shell.execute_reply": "2022-01-30T09:05:17.430475Z",
     "shell.execute_reply.started": "2022-01-30T08:59:16.232993Z"
    },
    "papermill": {
     "duration": 0.100061,
     "end_time": "2022-01-30T09:05:17.431291",
     "exception": false,
     "start_time": "2022-01-30T09:05:17.331230",
     "status": "completed"
    },
    "tags": []
   },
   "outputs": [
    {
     "name": "stdout",
     "output_type": "stream",
     "text": [
      "Total \u001b[1m3\u001b[0m customers out of total \u001b[1m5440\u001b[0m have more than 10 unique transactions.\n"
     ]
    }
   ],
   "source": [
    "rep_cust = final.groupby(by=['cust_id'], as_index=False).agg({'transaction_id':'count'})\n",
    "\n",
    "print(f\"Total \\033[1m{rep_cust.where(rep_cust['transaction_id']>10).dropna()['cust_id'].count()}\\033[0m customers out of total \\033[1m{rep_cust['cust_id'].count()}\\033[0m have more than 10 unique transactions.\")"
   ]
  },
  {
   "cell_type": "markdown",
   "id": "19b62ca5",
   "metadata": {
    "papermill": {
     "duration": 0.0807,
     "end_time": "2022-01-30T09:05:17.594512",
     "exception": false,
     "start_time": "2022-01-30T09:05:17.513812",
     "status": "completed"
    },
    "tags": []
   },
   "source": [
    "**Customer group between age 25-35 to be considered for identifying trends and popular product.**"
   ]
  },
  {
   "cell_type": "code",
   "execution_count": 47,
   "id": "ae27776a",
   "metadata": {
    "execution": {
     "iopub.execute_input": "2022-01-30T09:05:17.765735Z",
     "iopub.status.busy": "2022-01-30T09:05:17.764658Z",
     "iopub.status.idle": "2022-01-30T09:05:17.831215Z",
     "shell.execute_reply": "2022-01-30T09:05:17.830523Z",
     "shell.execute_reply.started": "2022-01-30T08:59:16.257435Z"
    },
    "papermill": {
     "duration": 0.155969,
     "end_time": "2022-01-30T09:05:17.831360",
     "exception": false,
     "start_time": "2022-01-30T09:05:17.675391",
     "status": "completed"
    },
    "tags": []
   },
   "outputs": [
    {
     "name": "stdout",
     "output_type": "stream",
     "text": [
      "From customers of age between 25 to 35:\n",
      "Percentage of customers that belong to this age group is: \u001b[1m26.18%\u001b[0m\n",
      "Total revenue from Eletronics is: \u001b[1m2812480.25\u001b[0m\n",
      "Total revenue from Books is: \u001b[1m3120896.81\u001b[0m\n"
     ]
    }
   ],
   "source": [
    "age_study = final.where(final['Age'] < 35).where(final['Age']>25).dropna()[['cust_id','prod_cat','tran_date','total_amt','Gender','Age']]\n",
    "\n",
    "age_rev = age_study.groupby(by='prod_cat', as_index=False).agg({'total_amt':'sum'})\n",
    "\n",
    "\n",
    "\n",
    "print(\"From customers of age between 25 to 35:\")\n",
    "print(f\"Percentage of customers that belong to this age group is: \\033[1m{round(len(age_study['cust_id'].unique())*100/total_cust,2)}%\\033[0m\")\n",
    "\n",
    "print(f\"Total revenue from Eletronics is: \\033[1m{round(age_rev.where(age_rev['prod_cat'] == 'Electronics').dropna()['total_amt'].item(),2)}\\033[0m\")\n",
    "\n",
    "print(f\"Total revenue from Books is: \\033[1m{round(age_rev.where(age_rev['prod_cat'] == 'Books').dropna()['total_amt'].item(),2)}\\033[0m\")\n"
   ]
  },
  {
   "cell_type": "code",
   "execution_count": 48,
   "id": "54741d75",
   "metadata": {
    "execution": {
     "iopub.execute_input": "2022-01-30T09:05:18.001209Z",
     "iopub.status.busy": "2022-01-30T09:05:18.000547Z",
     "iopub.status.idle": "2022-01-30T09:05:18.020106Z",
     "shell.execute_reply": "2022-01-30T09:05:18.020634Z",
     "shell.execute_reply.started": "2022-01-30T08:59:16.332916Z"
    },
    "papermill": {
     "duration": 0.107574,
     "end_time": "2022-01-30T09:05:18.020801",
     "exception": false,
     "start_time": "2022-01-30T09:05:17.913227",
     "status": "completed"
    },
    "tags": []
   },
   "outputs": [
    {
     "name": "stdout",
     "output_type": "stream",
     "text": [
      "Total Revenue during Time-Period 1st Jan 2014 to 1st Mar 2014 is: \u001b[1m376984.01\n"
     ]
    }
   ],
   "source": [
    "date_rev = age_study.where(final['tran_date'] < dt.datetime(2014,3,1)).where(final['tran_date']>dt.datetime(2014,1,1)).dropna()\n",
    "\n",
    "print(f\"Total Revenue during Time-Period 1st Jan 2014 to 1st Mar 2014 is: \\033[1m{round(date_rev['total_amt'].sum(),2)}\")"
   ]
  },
  {
   "cell_type": "markdown",
   "id": "9ee7d21f",
   "metadata": {
    "papermill": {
     "duration": 0.081478,
     "end_time": "2022-01-30T09:05:18.186454",
     "exception": false,
     "start_time": "2022-01-30T09:05:18.104976",
     "status": "completed"
    },
    "tags": []
   },
   "source": [
    "## Inferences (SHARE):"
   ]
  },
  {
   "cell_type": "markdown",
   "id": "69de14cf",
   "metadata": {
    "papermill": {
     "duration": 0.081952,
     "end_time": "2022-01-30T09:05:18.350117",
     "exception": false,
     "start_time": "2022-01-30T09:05:18.268165",
     "status": "completed"
    },
    "tags": []
   },
   "source": [
    "Key inferences from the case-study is that:\n",
    "\n",
    " 1. The total revenue from the retail outlets for 3 years is : 4.88 cr. approx. And the number of transactions done are 18804.\n",
    " 2. Average transaction amount by customers is 2598.\n",
    " 3. The total revenue is equally from both male and female customers (51%-49%)\n",
    " 4. 5440 customer purchased from the store and out of which only 3 purchased for more than 10 times.\n",
    " 5. 26.2% of customers belong to the age group of 25 to 35. And average customer age is 29. \n",
    " 6. Major revenue sources are Books followed by Electronics at the second place.\n",
    " 7. Maximum number of customers and maximum revenue is from city 3.\n",
    " 8. Major revenue stream is through E-shops. All the other shop categories contribute approximately equal revenue to the total.\n"
   ]
  },
  {
   "cell_type": "markdown",
   "id": "0f6e5e31",
   "metadata": {
    "papermill": {
     "duration": 0.081198,
     "end_time": "2022-01-30T09:05:18.512505",
     "exception": false,
     "start_time": "2022-01-30T09:05:18.431307",
     "status": "completed"
    },
    "tags": []
   },
   "source": [
    "***\n",
    "***"
   ]
  }
 ],
 "metadata": {
  "kernelspec": {
   "display_name": "Python 3",
   "language": "python",
   "name": "python3"
  },
  "language_info": {
   "codemirror_mode": {
    "name": "ipython",
    "version": 3
   },
   "file_extension": ".py",
   "mimetype": "text/x-python",
   "name": "python",
   "nbconvert_exporter": "python",
   "pygments_lexer": "ipython3",
   "version": "3.7.12"
  },
  "papermill": {
   "default_parameters": {},
   "duration": 27.763574,
   "end_time": "2022-01-30T09:05:19.305539",
   "environment_variables": {},
   "exception": null,
   "input_path": "__notebook__.ipynb",
   "output_path": "__notebook__.ipynb",
   "parameters": {},
   "start_time": "2022-01-30T09:04:51.541965",
   "version": "2.3.3"
  }
 },
 "nbformat": 4,
 "nbformat_minor": 5
}
